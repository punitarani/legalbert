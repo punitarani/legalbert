{
 "nbformat": 4,
 "nbformat_minor": 0,
 "metadata": {
  "colab": {
   "provenance": [],
   "gpuType": "T4"
  },
  "kernelspec": {
   "name": "python3",
   "language": "python",
   "display_name": "Python 3 (ipykernel)"
  },
  "language_info": {
   "name": "python"
  },
  "accelerator": "GPU"
 },
 "cells": [
  {
   "cell_type": "code",
   "source": [
    "import pandas as pd\n",
    "import torch\n",
    "from torch.optim import Adam\n",
    "from torch.nn import CosineSimilarity, MSELoss\n",
    "from transformers import BertModel, BertTokenizer"
   ],
   "metadata": {
    "id": "lgVAUm8tsYRY",
    "ExecuteTime": {
     "end_time": "2023-09-24T02:45:11.438440700Z",
     "start_time": "2023-09-24T02:44:58.409457600Z"
    }
   },
   "execution_count": 1,
   "outputs": []
  },
  {
   "cell_type": "code",
   "source": [
    "def load_google_data(train_test: str = \"train\") -> pd.DataFrame:\n",
    "    \"\"\"\n",
    "    Load Google's Patent Phrase similarity dataset\n",
    "    \"\"\"\n",
    "\n",
    "    if train_test == \"train\":\n",
    "        data = pd.read_csv(\"data/google/train.csv\")\n",
    "    elif train_test == \"test\":\n",
    "        data = pd.read_csv(\"data/google/test.csv\")\n",
    "    elif train_test == \"validation\":\n",
    "        data = pd.read_csv(\"data/google/validation.csv\")\n",
    "    else:\n",
    "        raise ValueError(\"train_test must be 'train', 'test', or 'validation'\")\n",
    "\n",
    "    return data"
   ],
   "metadata": {
    "id": "fc0qCYA4tfMx",
    "ExecuteTime": {
     "end_time": "2023-09-24T02:45:11.523061200Z",
     "start_time": "2023-09-24T02:45:11.520059200Z"
    }
   },
   "execution_count": 2,
   "outputs": []
  },
  {
   "cell_type": "code",
   "source": [
    "# # Hyperparameters\n",
    "# EPOCHS = 5\n",
    "# LR = 1e-5\n",
    "# BATCH_SIZE = 16\n",
    "# \n",
    "# # Load data\n",
    "# train_data = load_google_data(\"train\")\n",
    "# valid_data = load_google_data(\"validation\")\n",
    "# \n",
    "# # Only use training data if the similarity is high\n",
    "# train_data = train_data[train_data[\"score\"] > 0.8]\n",
    "# print(f\"Training data size: {len(train_data)}\")\n",
    "# \n",
    "# # Initialize BERT model and tokenizer\n",
    "# model = BertModel.from_pretrained(\"bert-base-uncased\")\n",
    "# tokenizer = BertTokenizer.from_pretrained(\"bert-base-uncased\")\n",
    "# \n",
    "# # Use GPU if available\n",
    "# device = torch.device(\"cuda\" if torch.cuda.is_available() else \"cpu\")\n",
    "# print(f\"Using {device} device\")\n",
    "# model = model.to(device)\n",
    "# \n",
    "# \n",
    "# # Tokenize data\n",
    "# train_encodings = tokenizer(\n",
    "#     list(train_data[\"anchor\"]),\n",
    "#     list(train_data[\"target\"]),\n",
    "#     truncation=True,\n",
    "#     padding=True,\n",
    "#     return_tensors=\"pt\",\n",
    "#     max_length=128,\n",
    "# )\n",
    "# valid_encodings = tokenizer(\n",
    "#     list(valid_data[\"anchor\"]),\n",
    "#     list(valid_data[\"target\"]),\n",
    "#     truncation=True,\n",
    "#     padding=True,\n",
    "#     return_tensors=\"pt\",\n",
    "#     max_length=128,\n",
    "# )\n",
    "# \n",
    "# # Initialize optimizer, similarity measure, and loss function\n",
    "# optimizer = Adam(model.parameters(), lr=LR)\n",
    "# cosine_similarity = CosineSimilarity(dim=1)\n",
    "# loss_fn = MSELoss()\n",
    "# \n",
    "# # Training loop\n",
    "# print(\"Fine-tuning BERT...\")\n",
    "# for epoch in range(EPOCHS):\n",
    "#     model.train()\n",
    "#     total_loss = 0\n",
    "# \n",
    "#     # We'll use batches to train the model\n",
    "#     num_batches = len(train_data) // BATCH_SIZE\n",
    "#     for batch in range(num_batches):\n",
    "#         optimizer.zero_grad()\n",
    "# \n",
    "#         # Get embeddings for anchor and target for the current batch\n",
    "#         start_idx = batch * BATCH_SIZE\n",
    "#         end_idx = (batch + 1) * BATCH_SIZE\n",
    "# \n",
    "#         # 3. Move the data to the specified device\n",
    "#         input_ids = train_encodings[\"input_ids\"][start_idx:end_idx].to(device)\n",
    "#         attention_mask = train_encodings[\"attention_mask\"][start_idx:end_idx].to(device)\n",
    "# \n",
    "#         input_ids_val = valid_encodings[\"input_ids\"][start_idx:end_idx].to(device)\n",
    "#         attention_mask_val = valid_encodings[\"attention_mask\"][start_idx:end_idx].to(\n",
    "#             device\n",
    "#         )\n",
    "# \n",
    "#         anchor_embeddings = model(input_ids, attention_mask).last_hidden_state[:, 0, :]\n",
    "#         target_embeddings = model(input_ids_val, attention_mask_val).last_hidden_state[\n",
    "#             :, 0, :\n",
    "#         ]\n",
    "# \n",
    "#         # Compute cosine similarity\n",
    "#         similarities = cosine_similarity(anchor_embeddings, target_embeddings)\n",
    "# \n",
    "#         # 4. Move the target scores to the device\n",
    "#         scores = (\n",
    "#             torch.tensor(train_data[\"score\"][start_idx:end_idx].values)\n",
    "#             .float()\n",
    "#             .to(device)\n",
    "#         )\n",
    "# \n",
    "#         # Compute loss\n",
    "#         loss = loss_fn(similarities, scores)\n",
    "#         total_loss += loss.item()\n",
    "#         loss.backward()\n",
    "#         optimizer.step()\n",
    "# \n",
    "#     # Print average loss for the epoch\n",
    "#     print(f\"Epoch {epoch + 1}/{EPOCHS}, Loss: {total_loss / num_batches}\")\n",
    "# \n",
    "#     # Can add a validation loop here to evaluate the model on the validation set after each epoch\n",
    "# \n",
    "# # Save the fine-tuned model\n",
    "# model.save_pretrained(\"fine_tuned_bert_model\")\n",
    "# \n",
    "# print(\"Fine-tuning completed!\")"
   ],
   "metadata": {
    "colab": {
     "base_uri": "https://localhost:8080/"
    },
    "id": "rct9n1IXqD4t",
    "outputId": "79f0ca79-97b1-4a7e-d00a-f992a8682505",
    "ExecuteTime": {
     "end_time": "2023-09-24T02:45:11.525031500Z",
     "start_time": "2023-09-24T02:45:11.521031200Z"
    }
   },
   "execution_count": 3,
   "outputs": []
  },
  {
   "cell_type": "code",
   "source": [
    "from transformers import BertModel, BertTokenizer\n",
    "from torch.nn import CosineSimilarity"
   ],
   "metadata": {
    "id": "AhI1tUTCsbCX",
    "ExecuteTime": {
     "end_time": "2023-09-24T02:45:11.559128200Z",
     "start_time": "2023-09-24T02:45:11.521031200Z"
    }
   },
   "execution_count": 4,
   "outputs": []
  },
  {
   "cell_type": "code",
   "source": [
    "data = {\n",
    "    \"0280864\": \"\"\"\n",
    "    Abstract\n",
    "An electronic device can be configured to operate in a plurality of operating modes to generate various stimulation signals for touch sensing operations. Switching circuitry can selectively couple one or more stimulation circuits to touch stimulation circuitry to reduce electromagnetic interference generated during transitions between the plurality of operating modes. The electronic device can transition from a stimulation phase to a termination phase at an arbitrary time, unconstrained by integration time requirements of accompany touch sensing circuitry.\n",
    "\n",
    "Claims\n",
    "A power management circuit comprising:\n",
    "a plurality of direct-current-to-direct-current (DC-DC) converters referenced to a system ground;\n",
    "a guard buffer referenced to the system ground and configured to generate a guard ground;\n",
    "a plurality of supply capacitors coupled to outputs of the plurality of DC-DC converters and referenced to the system ground in a first mode of operation and decoupled from the outputs of the plurality of DC-DC converters and referenced to the guard ground in a second mode of operation;\n",
    "a plurality of regulators coupled to the plurality of supply capacitors, wherein the plurality of regulators are coupled to the outputs of the plurality of DC-DC converters in the first mode of operation and decoupled from the outputs of the plurality of DC-DC converters in the second mode, and wherein the plurality of regulators are further configured to generate a first plurality of regulated supply voltages referenced to the system ground in the first mode and a second plurality of regulated supply voltages referenced to the guard ground in the second mode; and\n",
    "a plurality of voltage generator circuits configured to generate one or more reference voltages for a display operation and one or more reference voltages for a touch sensing operation using the first plurality of regulated supply voltages or the second plurality of regulated supply voltages.\n",
    "The power management circuit of claim 1, wherein the plurality of DC-DC converters includes a first DC-DC converter and a second DC-DC converter, wherein the first DC-DC converter is configured to generate a positive output and the second DC-DC converter is configured to generate a negative output.\n",
    "The power management circuit of claim 2, wherein the plurality of supply capacitors includes a first supply capacitor coupled to the positive output and a second supply capacitor coupled to the negative output.\n",
    "The power management circuit of claim 3, wherein the plurality of regulators includes a first regulator and a second regulator, wherein the first regulator is configured to generate a positive regulated supply voltage and the second regulator is configured to generate a negative regulated supply voltage.\n",
    "The power management circuit of claim 4, wherein the plurality of voltage generator circuits is configured to generate the one or more reference voltages for the display operation and the one or more reference voltages for touch sensing operations using the positive regulated supply voltage or the negative regulated supply voltage.\n",
    "The power management circuit of claim 2, wherein the plurality of DC-DC converters includes a third DC-DC converter and wherein the guard buffer is configured to generate the guard ground using an output of the third DC-DC converter.\n",
    "The power management circuit of claim 2, wherein the first DC-DC converter is a buck converter and the second DC-DC converter is an inverted boost converter.\n",
    "The power management circuit of claim 1, wherein the plurality of regulators is disposed within a plurality of isolation wells including a first isolation well and a second isolation well, wherein a first regulator of the plurality of regulators is configured to generate a positive regulated supply voltage and is disposed in the first isolation well and a second regulator is configured to generate a negative regulated supply voltage and is disposed in the second isolation well.\n",
    "The power management circuit of claim 8, wherein at least one voltage generator circuit of the plurality of voltage generator circuits is disposed within one of the plurality of isolation wells.\n",
    "The power management circuit of claim 1, wherein the plurality of voltage generator circuits includes a fixed-voltage reference generator circuit for touch sensing circuitry, wherein the fixed-voltage reference generator circuit for the touch sensing circuitry is configured to generate a bias reference voltage and an analog-to-digital converter reference voltage.\n",
    "The power management circuit of claim 1, wherein the plurality of voltage generator circuits includes adjustable-voltage reference generator circuit for the display operation.\n",
    "The power management circuit of claim 1, wherein the plurality of voltage generator circuits includes a stimulation signal generator circuit configured to generate positive and negative phase stimulation signals referenced to guard ground for the touch sensing operations.\n",
    "The power management circuit of claim 1, wherein in the first mode of operation, the system ground and panel ground are shorted using a first switch or the output of the guard buffer is decoupled from a guard ground node using a second switch, and wherein in the second mode of operation, the system ground and the panel ground are decoupled using the first switch, and the output of the guard buffer is coupled to the guard ground node using the second switch.\n",
    "The power management circuit of claim 1, wherein in a low phase of the second mode of operation, the plurality of supply capacitors are coupled to the plurality of DC-DC converters using a plurality of switches, and in a high phase of the second mode of operation, the plurality of supply capacitors are decoupled from the plurality of DC-DC converters using the plurality of switches.\n",
    "An electronic device comprising:\n",
    "an energy storage device;\n",
    "communication circuitry;\n",
    "a touch screen; and\n",
    "a power management circuit coupled to the energy storage device and coupled to the touch screen, wherein the power management circuit comprises:\n",
    "a plurality of direct-current-to-direct-current (DC-DC) converters coupled to the energy storage device and referenced to a system ground;\n",
    "a guard buffer referenced to the system ground and configured to generate a guard ground;\n",
    "a plurality of supply capacitors coupled to outputs of the plurality of DC-DC converters and referenced to the system ground in a first mode of operation, and decoupled from the outputs of the plurality of DC-DC converters and referenced to the guard ground in a second mode of operation;\n",
    "a plurality of regulators coupled to the plurality of supply capacitors, wherein the plurality of regulators are coupled to the outputs of the plurality of DC-DC converters in the first mode of operation, and are decoupled from the outputs of the plurality of DC-DC converters in the second mode, and wherein the plurality of regulators are further configured to generate a first plurality of regulated supply voltages referenced to the system ground in the first mode of operation and a second plurality of regulated supply voltages referenced to the guard ground in the second mode of operation; and\n",
    "a plurality of voltage generator circuits configured to generate one or more reference voltages for display operation and one or more reference voltages for touch sensing operations using the first plurality of regulated supply voltages or the second plurality of regulated supply voltages.\n",
    "The power management circuit of claim 1, wherein the plurality of DC-DC converters includes a first DC-DC converter and a second DC-DC converter, wherein the first DC-DC converter is configured to generate a positive output and the second DC-DC converter is configured to generate a negative output.\n",
    "The electronic device of claim 1, wherein the plurality of voltage generator circuits includes a fixed-voltage reference generator circuit for touch sensing circuitry, wherein the fixed-voltage reference generator circuit for the touch sensing circuitry is configured to generate a bias reference voltage and an analog-to-digital converter reference voltage.\n",
    "The electronic device of claim 1, wherein the plurality of voltage generator circuits includes a stimulation signal generator circuit configured to generate positive and negative phase stimulation signals referenced to guard ground for the touch sensing operations.\n",
    "The electronic device of claim 1, wherein in the first mode of operation, the system ground and panel ground are shorted using a first switch or the output of the guard buffer is decoupled from a guard ground node using a second switch, and wherein in the second mode of operation, the system ground and the panel ground are decoupled using the first switch, and the output of the guard buffer is coupled to the guard ground node using the second switch.\n",
    "The electronic device of claim 1, wherein in a low phase of the second mode of operation, the plurality of supply capacitors are coupled to the plurality of DC-DC converters using a plurality of switches, and in a high phase of the second mode of operation, the plurality of supply capacitors are decoupled from the plurality of DC-DC converters using the plurality of switches.\n",
    "    \"\"\",\n",
    "\n",
    "    \"0280772\": \"\"\"\n",
    "    Abstract\n",
    "An apparatus includes hardware circuits, a front-end power supply, voltage regulators, and control circuitry. The front-end power supply generates electrical power for the hardware circuits. The front-end power supply includes power stages that generate portions of electrical power and are activated and deactivated independently. The voltage regulators are connected to an output of the front-end power supply and provide adjustable operating voltages to the hardware circuits. The control circuitry controls the voltage regulators to supply the adjustable operating voltages responsively to requests from the hardware circuits, compares the adjustable operating voltages to settings that are specified as safe for provisioning by a predefined partial number of the power stages of the front-end power supply, and adaptively activates and deactivates the power stages, including ensuring that a number of active power stages is set to the predefined partial number only while the operating voltages match the safe settings.\n",
    "\n",
    "Claims\n",
    "An apparatus comprising two or more chips, the two or more chips comprising:\n",
    "multiple hardware circuits;\n",
    "a front-end power supply configured to generate electrical power for powering the multiple hardware circuits, the front-end power supply comprising a set of power stages, the power stages configured to generate respective portions of the electrical power and to be activated and deactivated independently of one another;\n",
    "multiple voltage regulators, which are connected to an output of the front-end power supply and are configured to provide adjustable operating voltages to the hardware circuits; and\n",
    "control circuitry, configured to:\n",
    "control the voltage regulators, in response to requests from the hardware circuits, to supply to the hardware circuits a setting of the adjustable operating voltages;\n",
    "compare the setting of the adjustable operating voltages to one or more safe settings, wherein a given safe setting specifies a combination of voltage values of the adjustable operating voltages that are capable of being produced by the front-end power supply while a number of active power stages in the front-end power supply is a predefined partial number; and\n",
    "adaptively activate and deactivate the power stages, including ensuring that the number of active power stages is set to the predefined partial number only while the setting of the operating voltages matches at least one of the safe settings.\n",
    "The apparatus according to claim 1, wherein to adaptively activate and deactivate the power stages, the control circuitry is further configured to:\n",
    "at times in which the setting matches at least one of the safe settings, control the front-end power supply so that only the predefined partial number of the power stages are active; and\n",
    "at other times in which the setting does not match any the safe settings, control the front-end power supply so that more than the predefined partial number of the power stages are active.\n",
    "The apparatus according to claim 1, wherein, in addition to adaptively activating and deactivating the power stages, the control circuitry is configured to adaptively transition one or more of the power stages between a normal mode and a standby mode.\n",
    "The apparatus according to claim 1, wherein the predefined partial number of the power stages is a single power stage.\n",
    "The apparatus according to claim 1, wherein, while the number of active power stages is the predefined partial number, the control circuitry is configured to:\n",
    "detect that a request from one of the hardware circuits is expected to change the setting of the operating voltages from a safe setting to an unsafe setting; and\n",
    "control the voltage regulators to switch to the unsafe setting only after increasing the number of active power stages.\n",
    "The apparatus according to claim 1, wherein at least one of the safe settings depends on one or more specified temperature thresholds, and wherein, in comparing the setting of the adjustable operating voltages to the safe settings, the control circuitry is configured to compare one or more temperatures associated with the apparatus to the one or more temperature thresholds.\n",
    "A method, comprising:\n",
    "in a system comprising two or more chips, the two or more chips comprising multiple hardware circuits, a front-end power supply comprising a set of power stages and multiple voltage regulators, generating electrical power, for powering the multiple hardware circuits, using the front-end power supply, by generating respective portions of the electrical power using the power stages;\n",
    "providing adjustable operating voltages to the hardware circuits using the multiple voltage regulators, which are connected to an output of the front-end power supply;\n",
    "controlling the voltage regulators, in response to requests from the hardware circuits, to supply to the hardware circuits a setting of the adjustable operating voltages;\n",
    "comparing the setting of the adjustable operating voltages to one or more safe settings, wherein a given safe setting specifies a combination of voltage values of the adjustable operating voltages that are capable of being produced by the front-end power supply while a number of active power stages in the front-end power supply is a predefined partial number; and\n",
    "adaptively activating and deactivating the power stages, including ensuring that the number of active power stages is set to the predefined partial number only while the setting of the operating voltages matches at least one of the safe settings.\n",
    "The method according to claim 7, wherein adaptively activating and deactivating the power stages comprises:\n",
    "at times in which the setting matches at least one of the safe settings, controlling the front-end power supply so that only the predefined partial number of the power stages are active; and\n",
    "at other times in which the setting does not match any the safe settings, controlling the front-end power supply so that more than the predefined partial number of the power stages are active.\n",
    "The method according to claim 7, and comprising, in addition to adaptively activating and deactivating the power stages, adaptively transitioning one or more of the power stages between a normal mode and a standby mode.\n",
    "The method according to claim 7, wherein the predefined partial number of the power stages is a single power stage.\n",
    "The method according to claim 7, and comprising, while the number of active power stages is the predefined partial number:\n",
    "detecting that a request from one of the hardware circuits is expected to change the setting of the operating voltages from a safe setting to an unsafe setting; and\n",
    "controlling the voltage regulators to switch to the unsafe setting only after increasing the number of active power stages.\n",
    "The method according to claim 7, wherein at least one of the safe settings depends on one or more specified temperature thresholds, and wherein comparing the setting of the adjustable operating voltages to the safe settings comprises comparing one or more temperatures associated with the apparatus to the one or more temperature thresholds.\n",
    "    \"\"\"\n",
    "}"
   ],
   "metadata": {
    "id": "dUMXjCn_r0uE",
    "ExecuteTime": {
     "end_time": "2023-09-24T02:45:11.640692400Z",
     "start_time": "2023-09-24T02:45:11.557792400Z"
    }
   },
   "execution_count": 5,
   "outputs": []
  },
  {
   "cell_type": "code",
   "source": [
    "base_model = BertModel.from_pretrained(\"bert-base-uncased\")\n",
    "fine_tuned_model = BertModel.from_pretrained(\"/content/fine_tuned_bert_model\")"
   ],
   "metadata": {
    "id": "7D9cBySN2OYR",
    "ExecuteTime": {
     "end_time": "2023-09-24T02:45:19.399580100Z",
     "start_time": "2023-09-24T02:45:11.579402900Z"
    }
   },
   "execution_count": 6,
   "outputs": [
    {
     "ename": "HFValidationError",
     "evalue": "Repo id must be in the form 'repo_name' or 'namespace/repo_name': '/content/fine_tuned_bert_model'. Use `repo_type` argument if needed.",
     "output_type": "error",
     "traceback": [
      "\u001B[1;31m---------------------------------------------------------------------------\u001B[0m",
      "\u001B[1;31mHFValidationError\u001B[0m                         Traceback (most recent call last)",
      "Cell \u001B[1;32mIn[6], line 2\u001B[0m\n\u001B[0;32m      1\u001B[0m base_model \u001B[38;5;241m=\u001B[39m BertModel\u001B[38;5;241m.\u001B[39mfrom_pretrained(\u001B[38;5;124m\"\u001B[39m\u001B[38;5;124mbert-base-uncased\u001B[39m\u001B[38;5;124m\"\u001B[39m)\n\u001B[1;32m----> 2\u001B[0m fine_tuned_model \u001B[38;5;241m=\u001B[39m \u001B[43mBertModel\u001B[49m\u001B[38;5;241;43m.\u001B[39;49m\u001B[43mfrom_pretrained\u001B[49m\u001B[43m(\u001B[49m\u001B[38;5;124;43m\"\u001B[39;49m\u001B[38;5;124;43m/content/fine_tuned_bert_model\u001B[39;49m\u001B[38;5;124;43m\"\u001B[39;49m\u001B[43m)\u001B[49m\n",
      "File \u001B[1;32m~\\projects\\legalbert\\.venv\\lib\\site-packages\\transformers\\modeling_utils.py:2389\u001B[0m, in \u001B[0;36mPreTrainedModel.from_pretrained\u001B[1;34m(cls, pretrained_model_name_or_path, config, cache_dir, ignore_mismatched_sizes, force_download, local_files_only, token, revision, use_safetensors, *model_args, **kwargs)\u001B[0m\n\u001B[0;32m   2386\u001B[0m \u001B[38;5;28;01mif\u001B[39;00m commit_hash \u001B[38;5;129;01mis\u001B[39;00m \u001B[38;5;28;01mNone\u001B[39;00m:\n\u001B[0;32m   2387\u001B[0m     \u001B[38;5;28;01mif\u001B[39;00m \u001B[38;5;129;01mnot\u001B[39;00m \u001B[38;5;28misinstance\u001B[39m(config, PretrainedConfig):\n\u001B[0;32m   2388\u001B[0m         \u001B[38;5;66;03m# We make a call to the config file first (which may be absent) to get the commit hash as soon as possible\u001B[39;00m\n\u001B[1;32m-> 2389\u001B[0m         resolved_config_file \u001B[38;5;241m=\u001B[39m \u001B[43mcached_file\u001B[49m\u001B[43m(\u001B[49m\n\u001B[0;32m   2390\u001B[0m \u001B[43m            \u001B[49m\u001B[43mpretrained_model_name_or_path\u001B[49m\u001B[43m,\u001B[49m\n\u001B[0;32m   2391\u001B[0m \u001B[43m            \u001B[49m\u001B[43mCONFIG_NAME\u001B[49m\u001B[43m,\u001B[49m\n\u001B[0;32m   2392\u001B[0m \u001B[43m            \u001B[49m\u001B[43mcache_dir\u001B[49m\u001B[38;5;241;43m=\u001B[39;49m\u001B[43mcache_dir\u001B[49m\u001B[43m,\u001B[49m\n\u001B[0;32m   2393\u001B[0m \u001B[43m            \u001B[49m\u001B[43mforce_download\u001B[49m\u001B[38;5;241;43m=\u001B[39;49m\u001B[43mforce_download\u001B[49m\u001B[43m,\u001B[49m\n\u001B[0;32m   2394\u001B[0m \u001B[43m            \u001B[49m\u001B[43mresume_download\u001B[49m\u001B[38;5;241;43m=\u001B[39;49m\u001B[43mresume_download\u001B[49m\u001B[43m,\u001B[49m\n\u001B[0;32m   2395\u001B[0m \u001B[43m            \u001B[49m\u001B[43mproxies\u001B[49m\u001B[38;5;241;43m=\u001B[39;49m\u001B[43mproxies\u001B[49m\u001B[43m,\u001B[49m\n\u001B[0;32m   2396\u001B[0m \u001B[43m            \u001B[49m\u001B[43mlocal_files_only\u001B[49m\u001B[38;5;241;43m=\u001B[39;49m\u001B[43mlocal_files_only\u001B[49m\u001B[43m,\u001B[49m\n\u001B[0;32m   2397\u001B[0m \u001B[43m            \u001B[49m\u001B[43mtoken\u001B[49m\u001B[38;5;241;43m=\u001B[39;49m\u001B[43mtoken\u001B[49m\u001B[43m,\u001B[49m\n\u001B[0;32m   2398\u001B[0m \u001B[43m            \u001B[49m\u001B[43mrevision\u001B[49m\u001B[38;5;241;43m=\u001B[39;49m\u001B[43mrevision\u001B[49m\u001B[43m,\u001B[49m\n\u001B[0;32m   2399\u001B[0m \u001B[43m            \u001B[49m\u001B[43msubfolder\u001B[49m\u001B[38;5;241;43m=\u001B[39;49m\u001B[43msubfolder\u001B[49m\u001B[43m,\u001B[49m\n\u001B[0;32m   2400\u001B[0m \u001B[43m            \u001B[49m\u001B[43m_raise_exceptions_for_missing_entries\u001B[49m\u001B[38;5;241;43m=\u001B[39;49m\u001B[38;5;28;43;01mFalse\u001B[39;49;00m\u001B[43m,\u001B[49m\n\u001B[0;32m   2401\u001B[0m \u001B[43m            \u001B[49m\u001B[43m_raise_exceptions_for_connection_errors\u001B[49m\u001B[38;5;241;43m=\u001B[39;49m\u001B[38;5;28;43;01mFalse\u001B[39;49;00m\u001B[43m,\u001B[49m\n\u001B[0;32m   2402\u001B[0m \u001B[43m        \u001B[49m\u001B[43m)\u001B[49m\n\u001B[0;32m   2403\u001B[0m         commit_hash \u001B[38;5;241m=\u001B[39m extract_commit_hash(resolved_config_file, commit_hash)\n\u001B[0;32m   2404\u001B[0m     \u001B[38;5;28;01melse\u001B[39;00m:\n",
      "File \u001B[1;32m~\\projects\\legalbert\\.venv\\lib\\site-packages\\transformers\\utils\\hub.py:429\u001B[0m, in \u001B[0;36mcached_file\u001B[1;34m(path_or_repo_id, filename, cache_dir, force_download, resume_download, proxies, token, revision, local_files_only, subfolder, repo_type, user_agent, _raise_exceptions_for_missing_entries, _raise_exceptions_for_connection_errors, _commit_hash, **deprecated_kwargs)\u001B[0m\n\u001B[0;32m    426\u001B[0m user_agent \u001B[38;5;241m=\u001B[39m http_user_agent(user_agent)\n\u001B[0;32m    427\u001B[0m \u001B[38;5;28;01mtry\u001B[39;00m:\n\u001B[0;32m    428\u001B[0m     \u001B[38;5;66;03m# Load from URL or cache if already cached\u001B[39;00m\n\u001B[1;32m--> 429\u001B[0m     resolved_file \u001B[38;5;241m=\u001B[39m \u001B[43mhf_hub_download\u001B[49m\u001B[43m(\u001B[49m\n\u001B[0;32m    430\u001B[0m \u001B[43m        \u001B[49m\u001B[43mpath_or_repo_id\u001B[49m\u001B[43m,\u001B[49m\n\u001B[0;32m    431\u001B[0m \u001B[43m        \u001B[49m\u001B[43mfilename\u001B[49m\u001B[43m,\u001B[49m\n\u001B[0;32m    432\u001B[0m \u001B[43m        \u001B[49m\u001B[43msubfolder\u001B[49m\u001B[38;5;241;43m=\u001B[39;49m\u001B[38;5;28;43;01mNone\u001B[39;49;00m\u001B[43m \u001B[49m\u001B[38;5;28;43;01mif\u001B[39;49;00m\u001B[43m \u001B[49m\u001B[38;5;28;43mlen\u001B[39;49m\u001B[43m(\u001B[49m\u001B[43msubfolder\u001B[49m\u001B[43m)\u001B[49m\u001B[43m \u001B[49m\u001B[38;5;241;43m==\u001B[39;49m\u001B[43m \u001B[49m\u001B[38;5;241;43m0\u001B[39;49m\u001B[43m \u001B[49m\u001B[38;5;28;43;01melse\u001B[39;49;00m\u001B[43m \u001B[49m\u001B[43msubfolder\u001B[49m\u001B[43m,\u001B[49m\n\u001B[0;32m    433\u001B[0m \u001B[43m        \u001B[49m\u001B[43mrepo_type\u001B[49m\u001B[38;5;241;43m=\u001B[39;49m\u001B[43mrepo_type\u001B[49m\u001B[43m,\u001B[49m\n\u001B[0;32m    434\u001B[0m \u001B[43m        \u001B[49m\u001B[43mrevision\u001B[49m\u001B[38;5;241;43m=\u001B[39;49m\u001B[43mrevision\u001B[49m\u001B[43m,\u001B[49m\n\u001B[0;32m    435\u001B[0m \u001B[43m        \u001B[49m\u001B[43mcache_dir\u001B[49m\u001B[38;5;241;43m=\u001B[39;49m\u001B[43mcache_dir\u001B[49m\u001B[43m,\u001B[49m\n\u001B[0;32m    436\u001B[0m \u001B[43m        \u001B[49m\u001B[43muser_agent\u001B[49m\u001B[38;5;241;43m=\u001B[39;49m\u001B[43muser_agent\u001B[49m\u001B[43m,\u001B[49m\n\u001B[0;32m    437\u001B[0m \u001B[43m        \u001B[49m\u001B[43mforce_download\u001B[49m\u001B[38;5;241;43m=\u001B[39;49m\u001B[43mforce_download\u001B[49m\u001B[43m,\u001B[49m\n\u001B[0;32m    438\u001B[0m \u001B[43m        \u001B[49m\u001B[43mproxies\u001B[49m\u001B[38;5;241;43m=\u001B[39;49m\u001B[43mproxies\u001B[49m\u001B[43m,\u001B[49m\n\u001B[0;32m    439\u001B[0m \u001B[43m        \u001B[49m\u001B[43mresume_download\u001B[49m\u001B[38;5;241;43m=\u001B[39;49m\u001B[43mresume_download\u001B[49m\u001B[43m,\u001B[49m\n\u001B[0;32m    440\u001B[0m \u001B[43m        \u001B[49m\u001B[43mtoken\u001B[49m\u001B[38;5;241;43m=\u001B[39;49m\u001B[43mtoken\u001B[49m\u001B[43m,\u001B[49m\n\u001B[0;32m    441\u001B[0m \u001B[43m        \u001B[49m\u001B[43mlocal_files_only\u001B[49m\u001B[38;5;241;43m=\u001B[39;49m\u001B[43mlocal_files_only\u001B[49m\u001B[43m,\u001B[49m\n\u001B[0;32m    442\u001B[0m \u001B[43m    \u001B[49m\u001B[43m)\u001B[49m\n\u001B[0;32m    443\u001B[0m \u001B[38;5;28;01mexcept\u001B[39;00m GatedRepoError \u001B[38;5;28;01mas\u001B[39;00m e:\n\u001B[0;32m    444\u001B[0m     \u001B[38;5;28;01mraise\u001B[39;00m \u001B[38;5;167;01mEnvironmentError\u001B[39;00m(\n\u001B[0;32m    445\u001B[0m         \u001B[38;5;124m\"\u001B[39m\u001B[38;5;124mYou are trying to access a gated repo.\u001B[39m\u001B[38;5;130;01m\\n\u001B[39;00m\u001B[38;5;124mMake sure to request access at \u001B[39m\u001B[38;5;124m\"\u001B[39m\n\u001B[0;32m    446\u001B[0m         \u001B[38;5;124mf\u001B[39m\u001B[38;5;124m\"\u001B[39m\u001B[38;5;124mhttps://huggingface.co/\u001B[39m\u001B[38;5;132;01m{\u001B[39;00mpath_or_repo_id\u001B[38;5;132;01m}\u001B[39;00m\u001B[38;5;124m and pass a token having permission to this repo either \u001B[39m\u001B[38;5;124m\"\u001B[39m\n\u001B[0;32m    447\u001B[0m         \u001B[38;5;124m\"\u001B[39m\u001B[38;5;124mby logging in with `huggingface-cli login` or by passing `token=<your_token>`.\u001B[39m\u001B[38;5;124m\"\u001B[39m\n\u001B[0;32m    448\u001B[0m     ) \u001B[38;5;28;01mfrom\u001B[39;00m \u001B[38;5;21;01me\u001B[39;00m\n",
      "File \u001B[1;32m~\\projects\\legalbert\\.venv\\lib\\site-packages\\huggingface_hub\\utils\\_validators.py:110\u001B[0m, in \u001B[0;36mvalidate_hf_hub_args.<locals>._inner_fn\u001B[1;34m(*args, **kwargs)\u001B[0m\n\u001B[0;32m    105\u001B[0m \u001B[38;5;28;01mfor\u001B[39;00m arg_name, arg_value \u001B[38;5;129;01min\u001B[39;00m chain(\n\u001B[0;32m    106\u001B[0m     \u001B[38;5;28mzip\u001B[39m(signature\u001B[38;5;241m.\u001B[39mparameters, args),  \u001B[38;5;66;03m# Args values\u001B[39;00m\n\u001B[0;32m    107\u001B[0m     kwargs\u001B[38;5;241m.\u001B[39mitems(),  \u001B[38;5;66;03m# Kwargs values\u001B[39;00m\n\u001B[0;32m    108\u001B[0m ):\n\u001B[0;32m    109\u001B[0m     \u001B[38;5;28;01mif\u001B[39;00m arg_name \u001B[38;5;129;01min\u001B[39;00m [\u001B[38;5;124m\"\u001B[39m\u001B[38;5;124mrepo_id\u001B[39m\u001B[38;5;124m\"\u001B[39m, \u001B[38;5;124m\"\u001B[39m\u001B[38;5;124mfrom_id\u001B[39m\u001B[38;5;124m\"\u001B[39m, \u001B[38;5;124m\"\u001B[39m\u001B[38;5;124mto_id\u001B[39m\u001B[38;5;124m\"\u001B[39m]:\n\u001B[1;32m--> 110\u001B[0m         \u001B[43mvalidate_repo_id\u001B[49m\u001B[43m(\u001B[49m\u001B[43marg_value\u001B[49m\u001B[43m)\u001B[49m\n\u001B[0;32m    112\u001B[0m     \u001B[38;5;28;01melif\u001B[39;00m arg_name \u001B[38;5;241m==\u001B[39m \u001B[38;5;124m\"\u001B[39m\u001B[38;5;124mtoken\u001B[39m\u001B[38;5;124m\"\u001B[39m \u001B[38;5;129;01mand\u001B[39;00m arg_value \u001B[38;5;129;01mis\u001B[39;00m \u001B[38;5;129;01mnot\u001B[39;00m \u001B[38;5;28;01mNone\u001B[39;00m:\n\u001B[0;32m    113\u001B[0m         has_token \u001B[38;5;241m=\u001B[39m \u001B[38;5;28;01mTrue\u001B[39;00m\n",
      "File \u001B[1;32m~\\projects\\legalbert\\.venv\\lib\\site-packages\\huggingface_hub\\utils\\_validators.py:158\u001B[0m, in \u001B[0;36mvalidate_repo_id\u001B[1;34m(repo_id)\u001B[0m\n\u001B[0;32m    155\u001B[0m     \u001B[38;5;28;01mraise\u001B[39;00m HFValidationError(\u001B[38;5;124mf\u001B[39m\u001B[38;5;124m\"\u001B[39m\u001B[38;5;124mRepo id must be a string, not \u001B[39m\u001B[38;5;132;01m{\u001B[39;00m\u001B[38;5;28mtype\u001B[39m(repo_id)\u001B[38;5;132;01m}\u001B[39;00m\u001B[38;5;124m: \u001B[39m\u001B[38;5;124m'\u001B[39m\u001B[38;5;132;01m{\u001B[39;00mrepo_id\u001B[38;5;132;01m}\u001B[39;00m\u001B[38;5;124m'\u001B[39m\u001B[38;5;124m.\u001B[39m\u001B[38;5;124m\"\u001B[39m)\n\u001B[0;32m    157\u001B[0m \u001B[38;5;28;01mif\u001B[39;00m repo_id\u001B[38;5;241m.\u001B[39mcount(\u001B[38;5;124m\"\u001B[39m\u001B[38;5;124m/\u001B[39m\u001B[38;5;124m\"\u001B[39m) \u001B[38;5;241m>\u001B[39m \u001B[38;5;241m1\u001B[39m:\n\u001B[1;32m--> 158\u001B[0m     \u001B[38;5;28;01mraise\u001B[39;00m HFValidationError(\n\u001B[0;32m    159\u001B[0m         \u001B[38;5;124m\"\u001B[39m\u001B[38;5;124mRepo id must be in the form \u001B[39m\u001B[38;5;124m'\u001B[39m\u001B[38;5;124mrepo_name\u001B[39m\u001B[38;5;124m'\u001B[39m\u001B[38;5;124m or \u001B[39m\u001B[38;5;124m'\u001B[39m\u001B[38;5;124mnamespace/repo_name\u001B[39m\u001B[38;5;124m'\u001B[39m\u001B[38;5;124m:\u001B[39m\u001B[38;5;124m\"\u001B[39m\n\u001B[0;32m    160\u001B[0m         \u001B[38;5;124mf\u001B[39m\u001B[38;5;124m\"\u001B[39m\u001B[38;5;124m \u001B[39m\u001B[38;5;124m'\u001B[39m\u001B[38;5;132;01m{\u001B[39;00mrepo_id\u001B[38;5;132;01m}\u001B[39;00m\u001B[38;5;124m'\u001B[39m\u001B[38;5;124m. Use `repo_type` argument if needed.\u001B[39m\u001B[38;5;124m\"\u001B[39m\n\u001B[0;32m    161\u001B[0m     )\n\u001B[0;32m    163\u001B[0m \u001B[38;5;28;01mif\u001B[39;00m \u001B[38;5;129;01mnot\u001B[39;00m REPO_ID_REGEX\u001B[38;5;241m.\u001B[39mmatch(repo_id):\n\u001B[0;32m    164\u001B[0m     \u001B[38;5;28;01mraise\u001B[39;00m HFValidationError(\n\u001B[0;32m    165\u001B[0m         \u001B[38;5;124m\"\u001B[39m\u001B[38;5;124mRepo id must use alphanumeric chars or \u001B[39m\u001B[38;5;124m'\u001B[39m\u001B[38;5;124m-\u001B[39m\u001B[38;5;124m'\u001B[39m\u001B[38;5;124m, \u001B[39m\u001B[38;5;124m'\u001B[39m\u001B[38;5;124m_\u001B[39m\u001B[38;5;124m'\u001B[39m\u001B[38;5;124m, \u001B[39m\u001B[38;5;124m'\u001B[39m\u001B[38;5;124m.\u001B[39m\u001B[38;5;124m'\u001B[39m\u001B[38;5;124m, \u001B[39m\u001B[38;5;124m'\u001B[39m\u001B[38;5;124m--\u001B[39m\u001B[38;5;124m'\u001B[39m\u001B[38;5;124m and \u001B[39m\u001B[38;5;124m'\u001B[39m\u001B[38;5;124m..\u001B[39m\u001B[38;5;124m'\u001B[39m\u001B[38;5;124m are\u001B[39m\u001B[38;5;124m\"\u001B[39m\n\u001B[0;32m    166\u001B[0m         \u001B[38;5;124m\"\u001B[39m\u001B[38;5;124m forbidden, \u001B[39m\u001B[38;5;124m'\u001B[39m\u001B[38;5;124m-\u001B[39m\u001B[38;5;124m'\u001B[39m\u001B[38;5;124m and \u001B[39m\u001B[38;5;124m'\u001B[39m\u001B[38;5;124m.\u001B[39m\u001B[38;5;124m'\u001B[39m\u001B[38;5;124m cannot start or end the name, max length is 96:\u001B[39m\u001B[38;5;124m\"\u001B[39m\n\u001B[0;32m    167\u001B[0m         \u001B[38;5;124mf\u001B[39m\u001B[38;5;124m\"\u001B[39m\u001B[38;5;124m \u001B[39m\u001B[38;5;124m'\u001B[39m\u001B[38;5;132;01m{\u001B[39;00mrepo_id\u001B[38;5;132;01m}\u001B[39;00m\u001B[38;5;124m'\u001B[39m\u001B[38;5;124m.\u001B[39m\u001B[38;5;124m\"\u001B[39m\n\u001B[0;32m    168\u001B[0m     )\n",
      "\u001B[1;31mHFValidationError\u001B[0m: Repo id must be in the form 'repo_name' or 'namespace/repo_name': '/content/fine_tuned_bert_model'. Use `repo_type` argument if needed."
     ]
    }
   ]
  },
  {
   "cell_type": "code",
   "source": [
    "import numpy as np\n",
    "import pandas as pd\n",
    "import torch\n",
    "from sklearn.metrics.pairwise import cosine_similarity\n",
    "from sklearn.manifold import TSNE\n",
    "import matplotlib.pyplot as plt\n",
    "from transformers import BertModel, BertTokenizer"
   ],
   "metadata": {
    "id": "nWCSfOKx3E5Q",
    "ExecuteTime": {
     "end_time": "2023-09-24T02:45:19.468567900Z",
     "start_time": "2023-09-24T02:45:19.406563800Z"
    }
   },
   "execution_count": null,
   "outputs": []
  },
  {
   "cell_type": "code",
   "source": [
    "# Model Initialization\n",
    "tokenizer = BertTokenizer.from_pretrained(\"bert-base-uncased\")\n",
    "\n",
    "\n",
    "# Embedding Extraction function\n",
    "def get_embeddings(text, model_type):\n",
    "    inputs = tokenizer(text, return_tensors=\"pt\", truncation=True, padding=True, max_length=512)\n",
    "    with torch.no_grad():\n",
    "        if model_type == \"base\":\n",
    "            outputs = base_model(**inputs)\n",
    "        else:\n",
    "            outputs = fine_tuned_model(**inputs)\n",
    "        embeddings = outputs.last_hidden_state.mean(dim=1)\n",
    "    return embeddings.numpy()\n",
    "\n",
    "# Extract embeddings for each abstract\n",
    "base_embeddings = np.array([get_embeddings(data[key], \"base\") for key in data.keys()])\n",
    "fine_tuned_embeddings = np.array([get_embeddings(data[key], \"fine_tuned\") for key in data.keys()])\n",
    "\n",
    "base_embeddings = base_embeddings.reshape(base_embeddings.shape[0], -1)\n",
    "fine_tuned_embeddings = fine_tuned_embeddings.reshape(fine_tuned_embeddings.shape[0], -1)\n",
    "\n",
    "print(base_embeddings.shape)\n",
    "print(fine_tuned_embeddings.shape)\n",
    "\n",
    "# Dimensionality reduction using t-SNE\n",
    "if len(data) > 1:  # Ensure there's more than one data point\n",
    "    tsne = TSNE(n_components=2, random_state=42, perplexity=min(30, len(data) - 1))\n",
    "    base_embeddings_2D = tsne.fit_transform(base_embeddings)\n",
    "    fine_tuned_embeddings_2D = tsne.fit_transform(fine_tuned_embeddings)\n",
    "\n",
    "    # Visualization\n",
    "    plt.figure(figsize=(12, 6))\n",
    "\n",
    "    plt.subplot(1, 2, 1)\n",
    "    plt.scatter(base_embeddings_2D[:, 0], base_embeddings_2D[:, 1], color='blue')\n",
    "    plt.title(\"Base BERT Embeddings\")\n",
    "\n",
    "    plt.subplot(1, 2, 2)\n",
    "    plt.scatter(fine_tuned_embeddings_2D[:, 0], fine_tuned_embeddings_2D[:, 1], color='red')\n",
    "    plt.title(\"Fine-tuned BERT Embeddings\")\n",
    "\n",
    "    plt.show()\n",
    "else:\n",
    "    print(\"Add more data points to visualize embeddings using t-SNE.\")"
   ],
   "metadata": {
    "colab": {
     "base_uri": "https://localhost:8080/",
     "height": 580
    },
    "id": "TQeUomSR3TIn",
    "outputId": "106ae5d1-8f6d-49b7-85fa-6ea54f81ee29",
    "ExecuteTime": {
     "start_time": "2023-09-24T02:45:19.416577500Z"
    }
   },
   "execution_count": null,
   "outputs": []
  },
  {
   "cell_type": "code",
   "source": [
    "from scipy.spatial.distance import euclidean\n",
    "\n",
    "# Calculate Euclidean distances for base and fine-tuned embeddings\n",
    "base_distance = euclidean(base_embeddings[0], base_embeddings[1])\n",
    "fine_tuned_distance = euclidean(fine_tuned_embeddings[0], fine_tuned_embeddings[1])\n",
    "\n",
    "# Compare distances\n",
    "improvement = base_distance - fine_tuned_distance\n",
    "\n",
    "print(f\"Base BERT distance: {base_distance:.4f}\")\n",
    "print(f\"Fine-tuned BERT distance: {fine_tuned_distance:.4f}\")\n",
    "print(f\"Improvement in distance: {improvement:.4f}\")\n",
    "\n",
    "# Interpretation\n",
    "if improvement > 0:\n",
    "    print(\"The fine-tuned model represents the patents as more distinct than the base model.\")\n",
    "elif improvement < 0:\n",
    "    print(\"The fine-tuned model represents the patents as more similar than the base model.\")\n",
    "else:\n",
    "    print(\"Both models represent the patents with the same distance.\")"
   ],
   "metadata": {
    "colab": {
     "base_uri": "https://localhost:8080/"
    },
    "id": "7EkFvKrt7rWk",
    "outputId": "4b2e4285-8a71-4699-a5da-5216c274fa09",
    "ExecuteTime": {
     "start_time": "2023-09-24T02:45:19.429577100Z"
    }
   },
   "execution_count": null,
   "outputs": []
  },
  {
   "cell_type": "code",
   "source": [
    "from scipy.spatial.distance import euclidean, cdist\n",
    "import numpy as np\n",
    "\n",
    "# Model Initialization\n",
    "tokenizer = BertTokenizer.from_pretrained(\"bert-base-uncased\")\n",
    "\n",
    "# Embedding Extraction function\n",
    "def get_embeddings(text, model_type):\n",
    "    inputs = tokenizer(text, return_tensors=\"pt\", truncation=True, padding=True, max_length=512)\n",
    "    with torch.no_grad():\n",
    "        if model_type == \"base\":\n",
    "            outputs = base_model(**inputs)\n",
    "        else:\n",
    "            outputs = fine_tuned_model(**inputs)\n",
    "        embeddings = outputs.last_hidden_state.mean(dim=1)\n",
    "    return embeddings.numpy()\n",
    "\n",
    "def pairwise_distances(embeddings):\n",
    "    \"\"\"Compute pairwise distances for a set of embeddings.\"\"\"\n",
    "    return pdist(embeddings, metric='euclidean')\n",
    "\n",
    "def compute_statistics(base_distances, fine_tuned_distances):\n",
    "    \"\"\"Compute statistics for the differences in distances.\"\"\"\n",
    "    differences = base_distances - fine_tuned_distances\n",
    "    return {\n",
    "        \"average\": np.mean(differences),\n",
    "        \"median\": np.median(differences),\n",
    "        \"mean\": np.mean(differences),\n",
    "        \"std_dev\": np.std(differences)\n",
    "    }"
   ],
   "metadata": {
    "id": "0xwte8Ht8dSQ",
    "ExecuteTime": {
     "start_time": "2023-09-24T02:45:19.443571100Z"
    }
   },
   "execution_count": null,
   "outputs": []
  },
  {
   "cell_type": "code",
   "source": [
    "def process_data(data_array):\n",
    "    base_embeddings = extract_embeddings([item['text'] for item in data_array], \"base\")\n",
    "    fine_tuned_embeddings = extract_embeddings([item['text'] for item in data_array], \"fine_tuned\")\n",
    "\n",
    "    # Reshape embeddings to ensure they are 2-dimensional\n",
    "    base_embeddings = base_embeddings.reshape(len(data_array), -1)\n",
    "    fine_tuned_embeddings = fine_tuned_embeddings.reshape(len(data_array), -1)\n",
    "\n",
    "    # Compute pairwise distances within array\n",
    "    base_distances = pairwise_distances(base_embeddings)\n",
    "    fine_tuned_distances = pairwise_distances(fine_tuned_embeddings)\n",
    "\n",
    "    # Compute statistics for intra-array comparisons\n",
    "    intra_array_stats = compute_statistics(base_distances, fine_tuned_distances)\n",
    "    return intra_array_stats\n",
    "\n",
    "def process_inter_array(data_array1, data_array2):\n",
    "    base_embeddings1 = extract_embeddings([item['text'] for item in data_array1], \"base\")\n",
    "    fine_tuned_embeddings1 = extract_embeddings([item['text'] for item in data_array1], \"fine_tuned\")\n",
    "    base_embeddings2 = extract_embeddings([item['text'] for item in data_array2], \"base\")\n",
    "    fine_tuned_embeddings2 = extract_embeddings([item['text'] for item in data_array2], \"fine_tuned\")\n",
    "\n",
    "    # Reshape embeddings to ensure they are 2-dimensional\n",
    "    base_embeddings1 = base_embeddings1.reshape(len(data_array1), -1)\n",
    "    fine_tuned_embeddings1 = fine_tuned_embeddings1.reshape(len(data_array1), -1)\n",
    "    base_embeddings2 = base_embeddings2.reshape(len(data_array2), -1)\n",
    "    fine_tuned_embeddings2 = fine_tuned_embeddings2.reshape(len(data_array2), -1)\n",
    "\n",
    "    # Compute pairwise distances between arrays\n",
    "    base_distances = cdist(base_embeddings1, base_embeddings2, metric='euclidean')\n",
    "    fine_tuned_distances = cdist(fine_tuned_embeddings1, fine_tuned_embeddings2, metric='euclidean')\n",
    "\n",
    "    # Compute statistics for inter-array comparisons\n",
    "    inter_array_stats = compute_statistics(base_distances.ravel(), fine_tuned_distances.ravel())\n",
    "    return inter_array_stats\n"
   ],
   "metadata": {
    "id": "OUndW3N7_CSs",
    "ExecuteTime": {
     "start_time": "2023-09-24T02:45:19.458573300Z"
    }
   },
   "execution_count": null,
   "outputs": []
  },
  {
   "cell_type": "code",
   "source": [
    "data_array1 = [{\n",
    "  \"url\": \"https://patents.google.com/patent/US9940346B2\",\n",
    "  \"text\": \"What is claimed is:\\n1. A method for managing locks on shared resources in a distributed computer system comprising:\\nreceiving at a first primary node a first local lock state from a first secondary node of a plurality of secondary nodes, wherein the first local lock state comprises a lock request for access to a shared resource, a requested lock mode, and merged state information identifying a current state of a plurality of different locks for shared resources held by a plurality of tasks on the first secondary node and indicating a group lock mode representing a combined lock mode for the plurality of tasks on the first secondary node holding the plurality of different locks on the shared resources, wherein the group lock mode is generated by comparing different lock modes held by the plurality of tasks and identifying a lock mode with a corresponding set of compatible lock modes including each of the different lock modes held by the plurality of tasks;\\ngranting the lock request at the first primary node in response to an absence of conflicts;\\ngenerating at the first primary node a first global lock state in response to the first local lock state; and\\ncommunicating the first global lock state from the first primary node to the first secondary node.\\n2. The method of claim 1, wherein a priority queue for the shared resource comprises a plurality of client entries each comprising a priority, a local lock state from one of the plurality of secondary nodes, and a responsive global lock state from the first primary node, wherein each local lock state comprises a lock request for access to the shared resource by one or more tasks on the one of the plurality of secondary nodes and each task has an associated lock mode, a fair lock mode that is the associated lock mode of a top waiter task on the one of the plurality of secondary nodes, a concurrent lock mode that is the associated lock mode of at least two tasks on the one of the plurality of secondary nodes that are able to run concurrently when the concurrent lock mode is granted, and a maximum lock mode that is a supremum of the associated lock modes for the one or more tasks on the one of the plurality of secondary nodes, and wherein each responsive global lock state comprises a holdable lock mode indicating a lock mode that was granted to the one of the plurality of secondary nodes, wherein the method further comprises processing the priority queue including:\\n(a) processing fair lock mode requests for each individual client entry by granting a lock request in a fair lock mode for the individual client entry when the fair lock mode of the individual client entry is compatible with the fair lock mode of all client entries having a higher priority than the individual client entry and the holdable lock mode of all client entries in the priority queue;\\n(b) processing concurrent lock mode requests for each individual client entry by granting a lock request in a concurrent lock mode for the individual client entry when the concurrent lock mode of the individual client entry is compatible with the fair lock mode of all client entries in the priority queue and the holdable lock mode of all client entries in the priority queue; and\\n(c) processing maximum lock mode requests for each individual client entry by granting a lock request in a maximum lock mode for the individual client entry when the maximum lock mode of the individual client entry is compatible with the concurrent lock mode of all client entries in the priority queue and the holdable lock mode of all client entries in the priority queue.\\n3. The method of claim 1, further comprising:\\nin response to the first secondary node waiting for a certain lock mode on the shared resource and being blocked by a second secondary node of the plurality of secondary nodes holding a lock on the shared resource:\\ndetermining that the first secondary node has a higher priority than the second secondary node;\\ngenerating a first lock state notification to the second secondary node signalling a reclaim of the held lock; and\\ncommunicating the first lock state notification from the first primary node to the second secondary node.\\n4. The method of claim 1, wherein each task of the first secondary node has an associated lock mode, and further comprising, at the first secondary node:\\nreceiving the first global lock state signalling a reclaim of a lock held by the first secondary node;\\nidentifying a current lock mode of the lock held by the first secondary node and one or more tasks on the first secondary node that are holding or waiting for access to the shared resource and have lock modes that are dominated by the current lock mode; and\\nallowing the identified one or more tasks to finish accessing the shared resource and releasing the lock held by the first secondary node to the first primary node to enable the first primary node to grant the lock held by the first secondary node to a remote secondary node.\\n5. The method of claim 4, further comprising, at the remote secondary node:\\nreceiving the lock held by the first secondary node from the first primary node after the lock held by the first secondary node has been released by the first secondary node;\\nidentifying a current lock mode of the lock held by the first secondary node and granted to the remote secondary node on the remote secondary node and one or more tasks on the remote secondary node that are holding or waiting for access to the shared resource and have lock modes that are dominated by the current lock mode of the lock held by the first secondary node and granted to the remote secondary node; and\\nallowing the identified one or more tasks on the remote secondary node to finish accessing the shared resource and releasing the lock held by the first secondary node and granted to the remote secondary node back to the first primary node to enable the first primary node to grant the lock held by the first secondary node and panted to the remote secondary node back to the first secondary node.\\n6. The method of claim 1, further comprising, at the first secondary node:\\ndetecting and resolving local deadlocks between tasks on the first secondary node;\\nidentifying at least one task on the first secondary node associated with a block of a task on a remote secondary node;\\ngenerating lock conflict information comprising local lock waits for one or more tasks on the first secondary node including the identified at least one task; and\\ncommunicating the generated lock conflict information to a second primary node.\\n7. The method of claim 1, further comprising:\\nreceiving at a global deadlock detector lock conflict information from two or more secondary nodes;\\ndetecting at the global deadlock detector a global deadlock between tasks on two or more different secondary nodes using the received lock conflict information;\\nresolving the detected global deadlock at the global deadlock detector by selecting one of the deadlocked tasks on the two or more different secondary nodes;\\ncommunicating the selected deadlocked task to a secondary node associated with the selected deadlocked task; and\\nterminating the selected deadlocked task at the secondary node associated with the selected deadlocked task.\\n8. The method of claim 1, wherein granting the lock request at the first primary node comprises:\\ngranting the lock request at the first primary node based on the merged state information of a plurality of the secondary nodes.\\n9. A computer program product for managing locks on shared resources in a distributed computer system comprising:\\na computer readable storage device having computer readable program code embodied therewith, the computer readable program code comprising computer readable program code configured to:\\nreceive at a first primary node a first local lock state from a first secondary node of a plurality of secondary nodes, wherein the first local lock state comprises a lock request for access to a shared resource, a requested lock mode, and merged state information identifying a current state of a plurality of different locks for shared resources held by a plurality of tasks on the first secondary node and indicating a group lock mode representing a combined lock mode for the plurality of tasks on the first secondary node holding the plurality of different locks on the shared resources, wherein the group lock mode is generated by comparing different lock modes held by the plurality of tasks and identifying a lock mode with a corresponding set of compatible lock modes including each of the different lock modes held by the plurality of tasks;\\ngrant the lock request at the first primary node in response to an absence of conflicts;\\ngenerate at the first primary node a first global lock state in response to the first local lock state; and\\ncommunicate the first global lock state from the first primary node to the first secondary node.\\n10. The computer program product of claim 9, wherein each task of the first secondary node has an associated lock mode, and the computer readable program code further comprises computer readable program code configured to, at the first secondary node:\\nreceive the first global lock state signalling a reclaim of a lock held by the first secondary node;\\nidentify a current lock mode of the lock held by the first secondary node on the first secondary node and one or more tasks on the first secondary node that are holding or waiting for access to the shared resource and have lock modes that are dominated by the current lock mode; and\\nallow the identified one or more tasks to finish accessing the shared resource and release the lock held by the first secondary node to the first primary node to enable the first primary node to grant the lock held by the first secondary node to a remote secondary node.\\n11. The computer program product of claim 10, wherein the computer readable program code further comprises computer readable program code configured to, at the remote secondary node:\\nreceive the lock held by the first secondary node from the first primary node after the lock held by the first secondary node has been released by the first secondary node;\\nidentify a current lock mode of the lock held by the first secondary node and granted to the remote secondary node on the remote secondary node and one or more tasks on the remote secondary node that are holding or waiting for access to the shared resource and have lock modes that are dominated by the current lock mode of the lock held by the first secondary node and granted to the remote secondary node; and\\nallow the identified one or more tasks on the remote secondary node to finish accessing the shared resource and release the lock held by the first secondary node and granted to the remote secondary node back to the first primary node to enable the first primary node to grant the lock held by the first secondary node and granted to the remote secondary node back to the first secondary node.\\n12. The computer program product of claim 9, wherein the computer readable program code further comprises computer readable program code configured to, at the first secondary node:\\ndetect and resolve local deadlocks between tasks on the first secondary node;\\nidentify at least one task on the first secondary node associated with a block of a task on a remote secondary node;\\ngenerate lock conflict information comprising local lock waits for one or more tasks on the first secondary node including the identified at least one task; and\\ncommunicate the generated lock conflict information to a second primary node.\\n13. The computer program product of claim 9, wherein the computer readable program code further comprises computer readable program code configured to:\\nreceive at a global deadlock detector lock conflict information from two or more secondary nodes;\\ndetect at the global deadlock detector a global deadlock between tasks on two or more different secondary nodes using the received lock conflict information;\\nresolve the detected global deadlock at the global deadlock detector by selecting one of the deadlocked tasks on the taro or more different secondary nodes;\\ncommunicate the selected deadlocked task to a secondary node associated with the selected deadlocked task; and\\nterminate the selected deadlocked task at the secondary node associated with the selected deadlocked task.\\n14. A system for managing locks on shared resources in a distributed computer system comprising:\\na first primary node comprising a first processor and a memory and configured to communicate with a plurality of secondary nodes each comprising a plurality of tasks, and wherein the plurality of secondary nodes collectively comprises a plurality of shared resources;\\nwherein the first processor is configured with logic to:\\nreceive a first local lock state from a first secondary node of the plurality of secondary nodes, wherein the first local lock state comprises a lock request for access to a shared resource, a requested lock mode, and merged state information identifying a current state of a plurality of different locks for shared resources held by a plurality of tasks on the first secondary node and indicating a group lock mode representing a combined lock mode for the plurality of tasks on the first secondary node holding the plurality of different locks on the shared resources, wherein the group lock mode is generated by comparing different lock modes held by the plurality of tasks and identifying a lock mode with a corresponding set of compatible lock modes including each of the different lock modes held by the plurality of tasks;\\ngrant the lock request in response to an absence of conflicts;\\ngenerate a first global lock state in response to the first local lock state; and\\ncommunicate the first global lock state to the first secondary node.\\n15. The system of claim 14, wherein each task of the first secondary node has an associated lock mode, and wherein the first secondary node comprises a second processor configured with logic to:\\nreceive the first global lock state signalling a reclaim of a lock held by the first secondary node;\\nidentify a current lock mode of the lock held by the first secondary node on the first secondary node and one or more tasks on the first secondary node that are holding or waiting for access to the shared resource and have lock modes that are dominated by the current lock mode; and\\nallow the identified one or more tasks to finish accessing the shared resource and release the lock held by the first secondary node to the first primary node to enable the first primary node to grant the lock held by the first secondary node to a remote secondary node.\\n16. The system of claim 15, wherein the remote secondary node comprises a third processor configured with logic to:\\nreceive the lock held by the first secondary node from the first primary node after the lock held by the first secondary node has been released by the first secondary node;\\nidentify a current lock mode of the lock held by the first secondary node and granted to the remote secondary node on the remote secondary node and one or more tasks on the remote secondary node that are holding or waiting for access to the shared resource and have lock modes that are dominated by the current lock mode of the lock held by the first secondary node and granted to the remote secondary node; and\\nallow the identified one or more tasks on the remote secondary node to finish accessing the shared resource and release the lock held by the first secondary node and granted to the remote secondary node back to the first primary node to enable the first primary node to grant the lock held by the first secondary node and granted to the remote secondary node back to the first secondary node.\\n17. The system of claim 14, wherein the first secondary node comprises a second processor configured with logic to:\\ndetect and resolve local deadlocks between tasks on the first secondary node;\\nidentify at least one task on the first secondary node associated with a block of a task on a remote secondary node;\\ngenerate lock conflict information comprising local lock waits for one or more tasks on the first secondary node including the identified at least one task; and\\ncommunicate the generated lock conflict information to a second primary node.\\n18. The system of claim 14, further comprising:\\na global deadlock detector comprising a second processor configured with logic to:\\nreceive lock conflict information from two or more secondary nodes;\\ndetect a global deadlock between tasks on two or more different secondary nodes using the received lock conflict information;\\nresolve the detected global deadlock by selecting one of the deadlocked tasks on the two or more different secondary nodes; and\\ncommunicate the selected deadlocked task to a secondary node associated with the selected deadlocked task.\\n19. The system of claim 18, wherein the secondary node associated with the selected deadlocked task includes a third processor configured with logic to:\\nreceive the selected deadlocked task from the global deadlock detector;\\ngenerate updated lock conflict information for the selected deadlocked task; and\\nterminate the selected deadlocked task.\\n20. The system of claim 18, wherein the global deadlock detector resides on one of the plurality of secondary nodes.\"\n",
    "},\n",
    "{\n",
    "  \"url\": \"https://patents.google.com/patent/US10200116B2\",\n",
    "  \"text\": \"What is claimed is:\\n1. A multilane transmission device that transmits data frames by using a plurality of lanes, comprising:\\na data frame allocating unit that refers to a setting table which determines a flow group and a lane group for each of a plurality of transmission destinations, specifies the flow group corresponding to a transmission destination in the plurality of transmission destinations, and allocates data frames to one or a plurality of flows included in the specified flow group;\\na buffer memory that stores data frames for each of the flows;\\na data frame reading unit that refers to the setting table and reads each flow stored in the buffer memory for each flow group;\\nan encoding unit that encodes the data frames for each flow group read by the data frame reading unit;\\na data string dividing unit that divides the data frames into data blocks having a certain length for each of the flows;\\nflow group information sequence information adding unit that adds flow group information indicating the flow group and sequence information indicating a sequence of the data blocks, to a data block;\\na transmission frame processing unit that converts each data block, to which the flow group information and the sequence information are added, to a transmission frame; and\\na lane selecting/outputting unit that transmits the transmission frame to a transmission destination of the plurality of transmission destinations, by using one or a plurality of lanes included in the lane group according to the flow group determined by the setting table.\\n2. A multilane communications system comprising:\\nthe multilane transmission device of claim 1; and\\na multilane reception device, comprising:\\na plurality of transmission frame processing units that receives a plurality of transmission frames, and outputs the data blocks and the sequence information of each of the data blocks;\\na lane selecting/combining unit that rearranges the data blocks based on the sequence information, thus yielding rearranged data blocks;\\na decoding unit that decodes the rearranged data blocks, thus yielding generated data frames; and\\na data frame allocating unit that allocates the generated data frames for each flow group determined by the setting table.\\n3. The multilane reception device according to claim 2,\\nwherein the lane selecting/combining unit constantly monitors all of the plurality of transmission frame processing units for the transmission frames being received.\\n4. A multilane transmission method in a multilane transmission device that transmits data frames by using a plurality of lanes, comprising:\\na data frame allocating step of referring to a setting table which determines a flow group and a lane group for each of a plurality of transmission destinations, specifying the flow group corresponding to a transmission destination in the plurality of transmission destinations, and allocating data frames to one or a plurality of flows included in the specified flow group;\\na buffering step of storing data frames to a buffer memory for each of the flows;\\na data frame reading step of referring to the setting table and reading each flow stored in the buffer memory for each flow group;\\nan encoding step of encoding the data frames for each flow group read at the data frame reading step;\\na data string dividing step of dividing the data frames into data blocks having a certain length for each of the flows;\\nflow group information sequence information adding step of adding flow group information indicating the flow group and sequence information indicating a sequence of the data blocks, to a data block;\\ntransmission frame processing step of converting each data block, to which the flow group information and the sequence information are added, to a transmission frame; and\\na lane selecting/outputting step of transmitting the transmission frame to a transmission destination of the plurality of transmission destinations, by using one or a plurality of lanes included in the lane group corresponding to the flow group determined by the setting table.\\n5. A multilane communication method comprising:\\nthe multilane transmission method of claim 4; and\\na multilane reception method, comprising:\\na transmission frame processing step of receiving a plurality of transmission frames, and outputting the data blocks and the sequence information of each of the data blocks;\\na lane selecting/combining step of rearranging the data blocks based on the sequence information, thus yielding rearranged data blocks;\\na decoding step of decoding the rearranged data blocks, thus yielding generated data frames; and\\na data frame allocating step of allocating the generated data frames for each flow group determined by the setting table.\\n6. The multilane reception method according to claim 5,\\nwherein the lane selecting/combining step constantly monitors all of a plurality of transmission frame processing units for the transmission frames being received.\"\n",
    "},\n",
    "  {\n",
    "    \"url\": \"https://patents.google.com/patent/EP1460869B1\",\n",
    "    \"text\": \"A mobile communication system comprising a local location manager (LLM#2) for receiving a registration of location information from a mobile router (MR#1) moving together with a group of mobile nodes (MN#1, MN#2) in a master-slave relationship on behalf of the group; wherein the local location manager (LLM#2) comprises: means for updating location information registered with the local location manager itself; and means for sending an update request for updating local location manager information indicating a correspondence relationship of the mobile router (MR#1) and the mobile nodes (MN#1, MN#2) with the local location manager;\\ncharacterized in that\\nthe mobile communication system comprises a home location manager (HLM#1) for managing local location manager information indicating a correspondence relationship of the mobile nodes (MN#1, MN#2) and the mobile router (MR#1) with the local location manager (LLM#2), the home location manager (HLM#1) comprising: means for, in response to receiving an update request for updating the local location manager information from a local location manager (LLM#2) in association with the home location manager (HLM#1) itself, updating the local location manager information registered with the home location manager (HLM#1) itself; and means for sending registered contents before update to the local location manager which has sent the update request; and in that\\nthe local location manager (LLM#2) comprises means for sending a deletion request for deleting location information on the mobile router (MR#1), which has requested registration of location information, to a different location manager (LLM#1) storing the location information on the mobile router (MR#1).\\nMobile communication system according to claim 1, characterized in that the mobile router (MR#1) is designed to send a location update request for updating its own location information to the nearest local location manager (LLM#2) when the mobile router (MR#1) moves between areas managed by different local location managers (LLM#1, LLM#2).\\nMobile communication system according to claim 1 or 2, characterized in that it is designed so that the local location manager information is registered with a home location manager (HLM#1) provided in association with multiple local location managers and a home location manager (HLM#1) is identified based on identifications specific to the mobile router (MR#1) and the mobile nodes (MN#1, MN#2).\\nMobile communication system according to one the claims 1 to 3, characterized in that it comprises the different local location manager (LLM#1) comprising means for, in response to receiving the deletion request for deleting location information from the local location manager (LLM#2), notifying the location manager (LLM#2) of registered contents for the mobile nodes (MN#1, MN#2) in a master-slave relationship with a mobile router (MR#1) registered with the different local location manager (LLM#1) itself; and means for deleting registered contents of location information and information indicating a master-slave relationship on the mobile router (MR#1) registered with the different local location manager itself.\\nMobile communication system according to one of the claims 1 to 4, characterized in that the local location manager (LLM#2) is designed to confirm, when a master-slave relationship is newly generated between the mobile router (MR#1) and a mobile node (MN#3), whether there is any difference between the location information on the mobile router (MR#1) and location information on the mobile node (MN#3), and, if there is any difference, to correct the location information on the mobile router (MR#1) and to register the master-slave relationship.\\nMobile communication system according to one of the claims 1 to 5, characterized in that the local location manager (LLM#2) is designed to confirm, when the master-slave relationship between the mobile router (MR#1) and a mobile node (MN#3) is released, whether there is any difference between the location information on the mobile router (MR#1) and location information on the mobile node (MN#3), and, if there is any difference, to correct the location information on the mobile router (MR#1) and to delete the master-slave relationship.\"\n",
    "  },\n",
    "  {\n",
    "    \"url\": \"https://patents.google.com/patent/US7630785B2\",\n",
    "    \"text\": \"1. A substrate processing system that concurrently executes processing in two pipeline processing systems, in each of which a plurality of processing target substrates are sequentially transferred one at a time to a plurality of process modules to undergo processing, comprising:\\na first set of process modules made up with a plurality of process modules used in a first pipeline processing system;\\na second set of process modules made up with another plurality of process modules used in a second pipeline processing system;\\na single transfer mechanism equipped with two transfer arms so as to be able to replace a processing target substrate having undergone the processing with a next processing target substrate by accessing each of said process modules only once; and\\na control unit that:\\nsets module cycle periods, each corresponding to one of said process modules and each representing the sum of a substrate stay time over which a single substrate needs to stay in the process module to undergo processing, a delivery time and a retrieval time required to transfer the substrate or the sum of the substrate stay time, the delivery time, the retrieval time and a post processing time if post-processing is to be executed immediately following retrieval, to a uniform module cycle length by adjusting the length of the substrate stay time in correspondence to each process module before executing the processing on the substrate;\\nexecutes control for said transfer mechanism so that said transfer mechanism accesses said first set of process modules in an order matching the sequence in which the substrate is processed in said first pipeline processing system in correspondence to each module cycle;\\nexecutes control for said transfer mechanism so that said transfer mechanism accesses said second set of process modules in an order matching the sequence in which the substrate is processed in said second pipeline processing system in correspondence to each module cycle; and\\npermits concurrent processing in said two pipeline systems by executing access control for process modules in said first pipeline processing system and access control for process modules in said second pipeline processing system with a time lag matching a predetermined time adjustment width.\\n2. The substrate processing system according to claim 1, wherein:\\nsaid time adjustment width is determined based upon the length of time corresponding to a single module cycle.\\n3. The substrate processing system according to claim 2, wherein:\\nsaid time adjustment width equals ½ the length of time corresponding to a single module cycle.\\n4. The substrate processing system according to claim 1, wherein:\\nsaid time adjustment width is determined based upon the length of time representing a single module cycle and an attendant busy time representing the sum of delivery time and retrieval time required to transfer the substrate in each pipeline processing system or representing the sum of the delivery time and the retrieval time and the post-processing time if post-processing is to be executed immediately after retrieval.\\n5. The substrate processing system according to claim 4, wherein:\\nsaid time adjustment width equals ½ a value obtained by subtracting the difference between grand totals, each representing the sum of attendant busy time periods in each pipeline processing system, from the length of time representing a single module cycle.\\n6. The substrate processing system according to claim 5, wherein:\\nwith the grand totals of the attendant busy time periods in said two pipeline processing systems (I) and (II) indicated as ΣCT (I) and ΣCT (II), MT representing the length of a single module cycle and GT (I) representing a time adjustment width to be applied to execute each access control phase for said first pipeline processing system with a time lag relative to each access control phase executed for said second pipeline processing system, said time adjustment width GT (I) is calculated as expressed\\n\\nGT(I)=[MT−(ΣCT(I)−ΣCT(II))]/2.\\n7. The substrate processing system according to claim 5, wherein:\\nwith the grand totals of the attendant busy time periods in said two pipeline processing systems (I) and (II) indicated as ΣCT (I) and ΣCT (II), MT representing the length of a single module cycle and GT (II) representing a time adjustment width to be applied to execute each access control phase for said second pipeline processing system with a time lag relative to each access control phase executed for said first pipeline processing system, said time adjustment width GT (II) is calculated as expressed\\n\\nGT(II)[MT−(ΣCT(II)−ΣCT(I))]/2.\\n8. The substrate processing system according to claim 1, wherein:\\nsaid transfer mechanism carries an unprocessed substrate into said first pipeline processing system and into said second pipeline processing system with a time lag matching the predetermined time adjustment width.\\n9. A substrate processing system according to claim 1, wherein:\\nwhen a first substrate in said batch of substrates is sequentially processed in a plurality of process modules in said first process module set or said second process module set, said first substrate is carried into each process module other than a process module where said first substrate undergoes first processing after said module cycle period corresponding to a virtual substrate which does not exist in reality but is assumed to have been processed prior to said first substrate elapses.\\n10. A substrate processing system according to claim 1, wherein:\\nsaid plurality of process modules are disposed around said transfer mechanism in an order matching the sequence with which said substrate is processed.\\n11. A substrate processing system according to claim 1, wherein:\\nsaid plurality of process modules each includes a vacuum chamber;\\nsaid transfer mechanism is installed inside a vacuum transfer chamber to which said process modules are individually connected each via a gate valve; and\\nsaid transfer mechanism transfers individual substrates within a vacuum environment.\\n12. A substrate processing system according to claim 11, wherein: at least one of said plurality of process modules is a film formation processing device that forms a thin film on said substrate.\\n13. A substrate processing system according to claim 11, wherein: a load-lock module is connected to said vacuum transfer chamber via a gate valve.\\n14. A substrate processing system according to claim 1, wherein:\\nsaid substrate stay time is calculated so that said module cycle length extends over equal lengths of time for all of said process modules by adjusting the length of a wait time over which a substrate is to wait in standby in each processing module, preceding or following the processing period over which the substrate is processed in said process module, which is added to said substrate stay time.\\n15. A substrate processing system according to claim 1, wherein:\\ntotal lengths of required time are calculated, each in correspondence to one of said process modules as a sum of the length of time required to process a single substrate and the lengths of time required to carry the substrate into/out of said process module as well as the length of any post processing to be executed immediately after the substrate is carried out and a largest total length of required time among said total lengths of required time is set as said module cycle length.\\n16. A substrate processing system according to claim 15, wherein:\\nin a process module with a total length of required time smaller than said module cycle length, the difference between said module cycle length and the total length of required time is allocated as said wait time and the sum obtained by adding a wait time to said total length of required time is set as a module cycle length for said process module.\\n17. A substrate processing system according to claim 1, wherein:\\ntotal lengths of required time are calculated, each in correspondence to one of said process modules in said first process module set or said second process module set as a sum of the length of time required to process a single substrate and the lengths of time required to carry the substrate into/out of said process module as well as the length of any post processing to be executed immediately after the substrate is carried out and a largest total length of required time among said total lengths of required time is set as said module cycle length.\\n18. A substrate processing system according to claim 17, wherein:\\nin a process module among said process modules in said first process module set or said second process module set with a total length of required time smaller than said module cycle length, the difference between said module cycle length and the total length of required time is allocated as said wait time and the sum obtained by adding a wait time to said total length of required time is set as a module cycle length for said process module.\\n19. A substrate processing system according to claim 1, wherein:\\nwhen a first substrate in the batch of substrates is sequentially processed in said plurality of process modules, said first substrate is carried into each process module other than a process module where said first substrate undergoes first processing after said module cycle period corresponding to a virtual substrate which does not exist in reality but is assumed to have been processed prior to said first substrate elapses.\"\n",
    "  },\n",
    "  {\n",
    "    \"url\":\"https://patents.google.com/patent/US7558925B2\",\n",
    "    \"text\": \" A method for managing a low-latency memory including a plurality of memory banks, the method comprising:\\nreceiving a request to store a determined number of replications of a data structure in the plurality of memory banks, the request including a replication factor indicative of the number of replications selected, the replication factor being any number between one and the plurality of memory banks; and\\nstoring, responsive to the store request, each of the determined number of replications in a respective one of the plurality of memory banks.\\n2. The method of claim 1, wherein the replication factor is a power of two.\\n3. The method of claim 1, wherein the data structure is a deterministic finite automata.\\n4. The method of claim 1, wherein each of the plurality of memory banks is accessible using one of a plurality of low-latency memory interfaces, at least some of the replications of a data structure being accessible using different low-latency interfaces.\\n5. The method of claim 1, further comprising:\\nreceiving a request to access the stored data structure;\\nselecting, responsive to the access request, one of the memory banks of the plurality of memory banks, the selected memory bank storing a replication of the requested data structure; and\\naccessing the selected memory bank.\\n6. The method of claim 5, wherein selecting one of the memory banks comprises:\\ndetermining usage of each memory bank of the plurality of memory banks storing a replication of the data structure; and\\nselecting one of the plurality of memory banks responsive to the determined usage.\\n7. The method of claim 6, wherein the step of determining usage comprises comparing a plurality of queues, each queue associated with a respective one of the plurality of memory banks.\\n8. The method of claim 1, wherein the low-latency memory is selected from the group consisting of: dynamic random access memory (DRAM); Reduced Latency Dynamic Random Access Memory (RLDRAM); Synchronous Random Access Memory (SRAM); Fast Cycle Random Access Memory (FCRAM); and combinations thereof\\n9. The method of claim 1, further comprising determining the replication factor based on frequency of access to the data structure.\\n10. A low-latency memory management controller comprising:\\na first memory interface configured to access a low-latency memory, the low-latency memory including a plurality of memory banks;\\na main memory interface adapted to access a main memory;\\ninstruction unit coupled to the main memory interface receiving a request to store a selectable number of replications of a data structure in more than one memory bank of the plurality of memory banks, the request to store a selectable number of replications including a replication factor indicative of the number of replications selected, the replication factor being any number between one and the plurality of memory banks;\\nplurality of thread engines coupled to the instruction unit, each thread engine adapted for association with a selectable respective one of the plurality of memory banks; and\\na low-latency memory controller coupled to the instruction unit, and coupled between the first memory interface and the plurality of thread engines, the low-latency memory controller storing each of the selected number of replications of the data structure on a respective one of the plurality of memory banks.\\n11. The apparatus of claim 10, wherein the processor comprises a multi-core processor.\\n12. The apparatus of claim 10, wherein the replication factor is a power of two.\\n13. The apparatus of claim 10, wherein the low-latency memory controller comprises a plurality of input queues, one input queue for each of the plurality of memory banks, the low-latency memory controller selecting one of the plurality of memory banks responsive to a determined value.\\n14. The apparatus of claim 13, wherein the determined value relates to usage of the stored data structure.\\n15. The apparatus of claim 13, wherein the low-latency memory controller includes a thermometer unit determining the relative availability among different queues of the plurality of input queues, each input queue associated with a respective one of the plurality of memory banks.\\n16. The apparatus of claim 10, wherein the data structure comprises deterministic finite automata.\\n17. The apparatus of claim 10, wherein the low-latency memory is selected from the group consisting of: dynamic random access memory (DRAM); Reduced Latency Dynamic Random Access Memory (RLDRAM); Synchronous Random Access Memory (SRAM); Fast Cycle Random Access Memory (FCRAM); and combinations thereof.\\n18. The apparatus of claim 10, wherein some of the plurality of memory banks are accessible using a first low-latency memory interfaces and others of the plurality of memory banks are accessible using a second low-latency memory interface, at least some of the replications of a data structure being accessible using either of the first and second low-latency memory interfaces.\\n19. The apparatus of claim 10, further comprising a processor interface through which the low-latency memory management controller communicates with a processor.\\n20. The apparatus of claim 10, wherein the replication factor is based on frequency of access to the data structure.\\n21. A low-latency memory access system comprising:\\na plurality of memory banks;\\nmeans for receiving a request to store a determined number of replications of a data structure in the plurality of memory banks, the request including a replication factor indicative of the number of replications selected, the replication factor being any number between one and the plurality of memory banks; and\\nmeans for storing, responsive to the store request, each of the determined number of replications in a respective one of the plurality of memory banks.\"\n",
    "  }]"
   ],
   "metadata": {
    "id": "8S8ZN7od80Q9",
    "ExecuteTime": {
     "end_time": "2023-09-24T02:45:19.607658Z",
     "start_time": "2023-09-24T02:45:19.473566600Z"
    }
   },
   "execution_count": null,
   "outputs": []
  },
  {
   "cell_type": "code",
   "source": [
    "data_array2 = [{\n",
    "  \"url\": \"https://patents.google.com/patent/JP6892492B2\",\n",
    "  \"text\": \"Positive electrode active material-containing layer and\\nA negative electrode active material-containing layer containing one or more negative electrode active materials selected from the group consisting of carbon materials, graphite materials, lithium alloys, metal oxides and metal sulfides.\\nLithium-containing oxide particles having a specific surface area of 10 m 2 / g or more and 500 m 2 / g or less and an average size of 0.01 μm or more and 0.5 μm or less by the BET adsorption method of N 2, and lithium ions, an organic solvent, and high It contains an electrolyte composition containing molecules, and contains a composite electrolyte existing between the cathode active material-containing layer and the negative electrode active material-containing layer.\\nThe polymer is at least 1 Tanedea selected from the group consisting of polyacrylonitrile, polyethylene oxide, polyvinylidene fluoride and polymethyl methacrylate is, the lithium-containing oxide particles, lithium ion conductive oxide having a garnet structure A secondary battery which is at least one of the particles of a solid electrolyte and the particles of a lithium phosphate solid electrolyte having a NASICON type structure. The secondary battery according to claim 1, wherein the organic solvent contains carbonates. The secondary battery according to claim 2, wherein the carbonates are at least one selected from the group consisting of propylene carbonate, ethylene carbonate, diethyl carbonate and methyl ethyl carbonate. The lithium-containing oxide particles are La 5 + x A x La 3-x M 2 O 12 (A is at least one element selected from the group consisting of Ca, Sr and Ba, M is Nb and / or Ta, x. Is 0.5 or less (including 0)), Li 3 M 2-x L 2 O 12 (M contains Nb and / or Ta, L contains Zr, x is 0.5 or less (including 0)), Li 7-3 x Al x La 3 Zr 3 O 12 (x is 0.5 or less (including 0)), LiM1 2 (PO 4 ) 3 (M1 consists of Ti, Ge, Sr, Zr, Sn and Al) One or more elements selected from the group), Li 1 + x Al x Ge 2-x (PO 4 ) 3 (x is 0 or more and 0.5 or less), Li 1 + x Al x Zr 2-x (PO 4 ) 3 (x is 0 or more and 0.5 or less), and Li 1 + x Al x Ti 2-x (PO 4 ) 3 (x is 0 or more and 0.5 or less), which is formed from one or more kinds selected from claims 1 to 3. The secondary battery according to any one item. The secondary battery according to any one of claims 1 to 4, wherein the negative electrode active material-containing layer contains a titanium-containing oxide as the negative electrode active material. The secondary battery according to claim 5, wherein the titanium-containing oxide contains at least one selected from the group consisting of a lithium titanium oxide having a spinel structure, a monoclinic titanium oxide, and a niobium titanium oxide. Further including a current collector having a first surface and a second surface located on the opposite side of the first surface.\\nAny of claims 1 to 6, which has a bipolar structure in which the positive electrode active material-containing layer is formed on the first surface of the current collector and the negative electrode active material-containing layer is formed on the second surface. The secondary battery according to item 1. The positive active material-containing layer, phosphoric acid compounds having an olivine structure, and, Li x Ni 1-y- z Co y Mn z O 2, where 0 <x ≦ 1,0 <y ≦ 1,0 ≦ z ≦ The secondary battery according to any one of claims 1 to 7, which contains a positive electrode active material containing at least one of 1. The phosphoric acid compound having an olivine structure is Li x Fe 1-yz Mn y M z PO 4 , where M is at least one element selected from the group consisting of Mg, Al, Ti and Zr, 0 ≦ The secondary battery according to claim 8, which is represented by x ≦ 1.1, 0 ≦ y ≦ 1, and 0 ≦ z ≦ 0.2. The secondary battery according to any one of claims 1 to 9, wherein the organic solvent further contains phosphoric acid esters. The phosphate esters include trimethyl phosphate (PO (OCH 3 ) 3 ), triethyl phosphate (PO (OC 2 H 5 ) 3 ), tripropyl phosphate (PO (OC 3 H 7 ) 3 ) and phosphoric acid. The secondary battery according to claim 10, which is at least one selected from the group consisting of tributyl (PO (OC 4 H 9 ) 3). A battery pack comprising one or more of the secondary batteries according to any one of claims 1 to 11. With an external terminal for energizing\\nThe battery pack according to claim 12, further comprising a protection circuit. The battery pack according to claim 12 or 13, further comprising two or more of the secondary batteries, wherein the two or more secondary batteries are electrically connected in series, in parallel, or in combination of series and parallel. A vehicle equipped with the battery pack according to any one of claims 12 to 14. The vehicle according to claim 15, wherein the battery pack recovers the regenerative energy of the power of the vehicle.\"\n",
    "},\n",
    "  {\n",
    "  \"url\":  \"https://patents.google.com/patent/US20220384778A1\",\n",
    "  \"text\":  \"What is claimed is:\\n1. A lithium ion battery comprising:\\na negative electrode comprising an active composition that reversibly uptakes and releases lithium;\\na positive electrode comprising an active material that reversibly uptakes and releases lithium;\\na separator between the negative electrode and the positive electrode; and\\nan electrolyte comprising a lithium salt and a nonaqueous solvent,\\nwherein the capacity of the negative electrode exceeds the capacity of the positive electrode by at least about 10%, and\\nwherein after 20 charge-discharge cycles of the battery and discharge of the battery down to 98% of capacity, the negative electrode can be removed and electrochemically de-intercalated/de-alloyed with a capacity of at least about 2.5% of the negative electrode capacity with the corresponding removal of lithium from the negative electrode.\\n2. The lithium ion battery of claim 1 wherein the active composition comprises supplemental lithium.\\n3. The lithium ion battery of claim 1 wherein the anode comprises supplemental lithium, which comprises elemental lithium, a lithium alloy, or a lithium composition.\\n4. The lithium ion battery of claim 1 wherein the active composition comprises silicon.\\n5. The lithium ion battery of claim 1 wherein the positive electrode active material comprises a lithium metal oxide.\\n6. The lithium ion battery of claim 5 wherein the lithium metal oxide comprises LiCoO2.\\n7. The lithium ion battery of claim 5 wherein the lithium metal oxide has a formula Li1+xM1−yO2 wherein M represents one or more non-lithium metals, x is from about 0.01 to about 0.33, and y is from about x−0.2 to about x+0.2 with the proviso that y≥0.\\n8. The lithium ion battery of claim 1 wherein the lithium salt comprises lithium hexafluorophosphate, lithium bis(trifluoromethyl sulfonyl imide), lithium trifluoromethane sulfonate, lithium tetrafluoroborate, lithium difluoro oxalato borate, and a mixture thereof.\\n9. The lithium ion battery of claim 1 wherein the negative electrode comprises silicon, a polymer binder and an electrically conductive powder distinct from the electroactive composition.\\n10. The lithium ion battery of claim 1 wherein the negative electrode can be removed and electrochemically de-intercalated/de-alloyed with a capacity from about 5% to about 80% of the negative electrode capacity with the corresponding removal of lithium from the negative electrode\\n11. A lithium ion battery comprising:\\na negative electrode comprising an active composition that reversibly uptakes and releases lithium;\\na positive electrode comprising an active material that reversibly uptakes and releases lithium;\\na separator between the negative electrode and the positive electrode; and\\nan electrolyte comprising a lithium salt,\\nwherein the capacity of the negative electrode exceeds the capacity of the positive electrode by at least about 15%, and\\nwherein the negative electrode is preloaded with supplemental lithium in all forms corresponding with at least about 10% of the anode capacity.\\n12. The lithium ion battery of claim 11 wherein the active composition comprises silicon.\\n13. The lithium ion battery of claim 11 wherein the negative electrode is preloaded with supplemental lithium in all forms corresponding with at least about 20% of the anode capacity.\\n14. The lithium ion battery of claim 13 wherein at a discharge rate of 1 C over 180 charge-discharge cycles, the lithium ion battery exhibits a reduced capacity fade as compared to a reference lithium ion battery equivalent to the lithium ion battery but without supplemental lithium.\\n15. The lithium ion battery of claim 13 wherein after 20 charge-discharge cycles of the battery and discharge of the battery down to 98% of capacity, the negative electrode can be removed and electrochemically de-intercalated/de-alloyed with a capacity of at least about 2.5% of the negative electrode capacity with the corresponding removal of lithium from the negative electrode.\\n16. The lithium ion battery of claim 11 wherein negative electrode comprises silicon, a polymer binder and an electrically conductive powder distinct from the electroactive composition.\\n17. The lithium ion battery of claim 16 wherein the positive electrode active material comprises a lithium metal oxide.\\n18. The lithium ion battery of claim 11 wherein the supplemental lithium comprises elemental lithium.\\n19. The lithium ion battery of claim 18 wherein the elemental lithium is in the form of a foil.\\n20. The lithium ion battery of claim 11 wherein the supplemental lithium is preloaded into the negative electrode active composition\"\n",
    "  },\n",
    "  {\n",
    "  \"url\": \"https://patents.google.com/patent/US11245133B2\",\n",
    "    \"text\": \" A rechargeable battery, comprising:\\na cathode comprising a layered or spinel oxide material selected from the group consisting of LiCoO2, Li(Ni1/3Mn1/3Co1/3)O2, Li(Ni0.8Co0.15Al0.05)O2, LiMn2O4, Li(Mn1.5Ni0.5)2O4, Li(Ni0.6Co0.2Mn0.2)O2, Li(Ni0.8Co0.1Mn0.1)O2, or a lithium rich version thereof;\\na lithium metal anode having a thickness in the discharged state of less than about 20 μm, wherein a capacity of the cathode is greater than a capacity of the anode in a discharged state such that lithium metal anode rechargeable battery has an n/p ratio in a discharged state in a range of greater than 0.9 to less than 1;\\na separator comprising a porous polymer film having a porosity of greater than 50% and thickness of less than 12 μm;\\na non-aqueous liquid electrolyte selected to have electrochemical stability at a potential of the cathode material versus lithium, wherein the non-aqueous liquid electrolyte comprises:\\nan organic solvent composed of at least one solvent selected from the group consisting of ethylene carbonate, propylene carbonate, dimethoxyethane, diethoxyethane, triglyme, tetraglyme, diethylether, and methybutylether; and\\nat least one lithium imide salt having a fluorosulfonyl (FSO2) group having a concentration of between 2 mole per liter of the organic solvent and 10 moles per liter of the organic solvent;\\nwherein the rechargeable battery:\\nhas a gravimetric energy density of more than 300 Wh/kg;\\nhas a capacity of greater than 1 Ah at a discharge rate of 0.5 C or faster; and\\nhas at least 80% capacity retention after 200 charge-discharge cycles or more.\\n2. The battery of claim 1, wherein the lithium metal anode has a thickness in the discharged state of about 10 μm to less than 20 μm.\\n3. The battery of claim 1, wherein the lithium metal anode is disposed on a current collector.\\n4. The battery of claim 3, wherein the current collector comprises a copper foil.\\n5. The battery of claim 3, wherein the cathode has a potential vs. Li metal of greater than 4.0 V.\\n6. The battery of claim 3, wherein the cathode has a potential vs. Li of about 4.0 V to about 4.5 V.\\n7. The battery of claim 3, wherein the cathode has a potential vs. Li of about 4.2 V to about 4.4 V.\\n8. The battery of claim 3, wherein the cathode is a disposed on an aluminum foil.\\n9. The battery of claim 1, wherein the cathode has an energy density of greater than 3 mAh/cm2.\\n10. The battery of claim 1, wherein the cathode has an energy density of 3-10 mAh/cm2.\\n11. The battery of claim 1, wherein the porous polymer film comprises one or more of a polypropylene film, a polyethylene film, or a mixed polypropylene/polyethylene film.\\n12. The battery of claim 1, wherein the separator is a hybird separator further comprising a protective coating that comprises a Li ion conductivity of between about 10−8 and about 10−2 ohm-cm1.\\n13. The battery of claim 1, wherein the separator further includes a protective coating, and the protective coating is an inorganic electrolyte.\\n14. The battery of claim 13, wherein the inorganic electrolyte is selected from the group consisting of lithium silicates, lithium borates, lithium aluminates, lithium phosphates, lithium oxynitrides, lithium oxyborides, lithium silicosulfides, lithium borosulfides, lithium aluminosulfides, lithium phosphosultides, and the combinations thereof.\\n15. The battery of claim 1, wherein the separator further includes a protective coating, and the protective coating comprises a polymer layer.\\n16. The battery of claim 15, wherein the polymer layer is an ion conductive polymer layer.\\n17. The battery of claim 1, wherein the separator further includes a protective coating, and the protective coating comprises a plurality of layers.\\n18. The battery of claim 17, wherein the protective coating comprises between 2 and 5 layers.\\n19. The battery of claim 17, wherein at least one of the coating layers comprises a lithium ion conducting polymer.\\n20. The battery of claim 17, wherein at least one of the coating layers comprises a lithium ion conducting polymer and at least one other of the coating layers comprises a polymer.\\n21. The battery of claim 1, wherein the non-aqueous liquid electrolyte further comprises a perchlorate salt, wherein the electrolyte is electrochemically stable at operating voltages greater than 4.2 V.\\n22. The battery of claim 21, wherein the perchlorate salt has a concentration between 0.05 M to 0.50 M of the organic solvent.\\n23. The battery of claim 21, wherein the perchlorate salt is selected from the group consisting of LiClO4, Ca(ClO4)2, Sr(ClO4)2, Mg(ClO4), Ba(ClO4)2, and any combinations or mixtures thereof.\\n24. The battery of claim 1, wherein the imide salt comprises LiFSI.\\n25. The battery of claim 1, further comprising at least one protective coating disposed between the porous polymer film and the lithium metal anode, wherein the at least one protective coating is designed and configured to:\\nsuppress lithium dendrites from penetrating through the separator; and\\nconduct lithium ions and block the non-aqueous liquid electrolyte from passing through the at least one protective coating.\\n26. The battery of claim 1, wherein the rechargeable battery has a gravimetric density of at least 450 Wh/kg and at least 80% capacity retention after 100 charge-discharge cycles or more.\\n27. The battery of claim 1, wherein the organic solvent consists essentially of dimethoxyethane, and the non-aqueous liquid electrolyte has a lithium salt concentration between 4 to 6 moles per liter of the organic solvent.\\n28. The battery of claim 1, wherein the organic solvent consists essentially of ethylene carbonate, and the non-aqueous liquid electrolyte has a lithium salt concentration between 2 to 3 moles per liter of the organic solvent.\"\n",
    "  },\n",
    "  {\n",
    "    \"url\": \"https://patents.google.com/patent/US10741890B2\",\n",
    "    \"text\": \". In a battery recycling process for acidic leaching of charge materials from a waste stream of crushed and shredded battery contents, aA method for recycling lithium iron phosphate from residual iron phosphate after acidic leaching, comprising:\\nremoving solid battery components including casing and electrode materials from exhausted lithium ion batteries (LIBs) by physical separation from an acidic leach solution resulting in a granular mass of exhausted charge materials including carbon, graphite and iron phosphate;\\nadding hydrochloric acid to the granular mass to separate graphite and carbon from the iron phosphate to yield a solution of iron chloride and phosphoric acid with undissolved carbon and graphite;\\nadjust the pH of the solution of iron chloride and phosphoric acid to precipitate iron phosphate;\\ncombining and agitating lithium carbonate with the precipitated iron phosphate; and\\nsintering the combined and agitated lithium carbonate and iron phosphate to yield cathode powder.\\n2. The method of claim 1 further comprising sintering the combined mixture to generate LiFePO4.\\n3. The method of claim 1 further comprising precipitating the iron phosphate by circulating and heating a reactor containing the iron chloride and phosphoric acid solution to precipitate iron phosphate in a powder form.\\n4. The method of claim 1 further comprising combining a carbon source and lithium carbonate with the precipitated iron phosphate, the carbon source including at least glucose or sucrose.\\n5. The method of claim 4 further comprising adding the carbon source in an amount based on 20% by weight of the iron phosphate.\\n6. The method of claim 1 wherein the hydrochloric acid acid is 5M hydrochloric acid.\\n7. The method of claim 1 further comprising adding ammonium hydroxide to the solution of iron chloride and phosphoric acid for maintaining the pH substantially at 2.\\n8. The method of claim 7 further comprising controlling the pH in a range between 1.5-4.5.\\n9. The method of claim 1 further comprising adding a stoichiometric amount of lithium carbonate to the yield the lithium iron phosphate.\\n10. The method of claim 1 further comprising acid leaching charge material compounds other than iron phosphate from the granular mass prior to adding the inorganic acid.\\n11. The method of claim 1 further comprising adjusting the pH by adding ammonium hydroxide or sodium hydroxide.\\n12. A method for recycling lithium iron phosphate batteries, comprising\\nremoving solid battery components including casing and electrode materials from exhausted lithium ion batteries (LIBs) by physical separation resulting in a granular mass, the granular mass having exhausted charge materials including carbon, graphite and residual cathode materials;\\nadding a first inorganic acid to the granular mass for leaching charge materials other than iron phosphate from the exhausted charge materials;\\ndirecting a first leach solution resulting from the leached charge materials to a recycling stream;\\nadding hydrochloric acid to the granular mass remaining after directing the first leach solution to the recycling stream to generate a second leach solution including iron chloride and phosphoric acid;\\nadjusting the pH of the generated leach solution to precipitate iron phosphate for adding lithium carbonate and sintering for forming lithium iron phosphate.\\n13. The method of claim 12 wherein the first inorganic acid is sulfuric acid, and the leached charge materials include nickel, manganese and cobalt.\\n14. The method of claim 12 wherein the physical separation includes:\\nagitation and crushing to separate casing and containment materials;\\nsorting and magnetic separation to remove casing and current collector metals from the charge material.\\n15. The method of claim 12 further comprising removing exhausted charge materials including nickel, manganese and cobalt from dissolution in the leached charge materials.\\n16. The method of claim 12 further comprising forming the first leach solution by adding an inorganic acid to crushed battery materials defining the granular mass to form a leach solution including compounds of nickel, manganese and cobalt reacted with the inorganic acid.\\n17. The method of claim 16 further comprising processing the leach solution for forming a parallel recycling stream for recycling the leached charge materials.\\n18. The method of claim 12 wherein the first inorganic acid dissolves at least one of nickel, manganese and cobalt charge materials and is substantially nonreactive with the iron phosphate.\"\n",
    "  },\n",
    "  {\n",
    "    \"url\": \"https://patents.google.com/patent/US11121407B2\",\n",
    "    \"text\": \"1. An electrolyte composition comprising solvent, from about 1.1M to about 2.5M lithium electrolyte salt, from about 0.001 weight percent to about 0.4 weight percent LiF and an anion complexing agent in an amount by moles from about 0.25 to about 2 times the molar amount of LiF, wherein the solvent consists essentially of fluoroethylene carbonate and/or ethylene carbonate, dimethyl carbonate and optionally methyl ethyl carbonate, and wherein the lithium electrolyte salt is selected from the group consisting of LiPF6, LiBF4 and combinations thereof.\\n2. The electrolyte composition of claim 1 comprising from about 0.0025 to about 0.25 weight percent LiF.\\n3. The electrolyte composition of claim 1 wherein the anion complexing agent is tris(1,1,1,3,3,3-hexafluoro-propan-2-yl)borate, tris(1,1,1,3,3,3-hexafluoro-2-phenyl-propan-2-yl)borate, tris(1,1,1,3,3,3-hexafluoro-2-(trifluoromethyl)propan-2-yl)borate, triphenyl borate, tris(4-fluorophenyl)borate, tris(2,4-difluorophenyl)borate, tris(2,3,5,6-tetrafluorophenyl)borate, tris(pentafluorophenyl)borate, tris(3-trifluoromethylphenyl)borate, tris(3,5-bis(trifluoromethyl)phenyl)borate, tris(pentafluorophenyl)borane, 2-(2,4-difluorophenyl)-4-fluoro-1,3,2-benzodioxaborole, 2-(3-trifluoromethylphenyl)-4-fluoro-1,3,2-benzodioxaborole, 2,5-bis(trifluoromethyl)phenyl-4-fluoro-1,3,2-benzodioxaborole, 2-(4-fluorophenyl)-tetrafluoro-1,3,2-benzodioxaborole, 2-(2,4-difluorophenyl)-tetrafluoro-1,3,2-benzodioxaborole, 2-(pentafluorophenyl)-tetrafluoro-1,3,2-benzodioxaborole, 2-(2-trifluoromethyl)phenyl-tetrafluoro-1,3,2-benzodioxaborole, 2,5-bis(trifluoromethyl)phenyl-tetrafluoro-1,3,2-benzodioxaborole, 2-phenyl-4,4,5,5-tetrakis(trifluoromethyl)-1,3,2-benzodioxaborolane, 2-(3,5-difluorophenyl)-4,4,5,5-tetrakis(trifluoromethyl)-1,3,2-dioxaborolane, 2-pentafluorophenyl-4,4,5,5-tetrakis(trifluoromethyl)-1,3,2-dioxaborolane, bis(1,1,1,3,3,3-hexafluoroisopropyl)phenylboronate, bis(1,1,1,3,3,3-hexafluoroisopropyl)-3,5-difluorophenylboronate, bis(1,1,1,3,3,3-hexafluoroisopropyl)(pentafluorophenyl)boronate, or a mixture of any two or more thereof.\\n4. The electrolyte composition of claim 1 wherein the anion complexing agent is tris(pentafluorophenyl)borane, pentafluorophenylboron oxalate, tris(2H-hexafluoroisopropyl) borate, 2-(pentafluorophenyl)-tetrafluoro-1,3,2-benzodioxaborole, 2-(pentafluorophenyl)-4,4,5,5-tetrakis(trifluoromethyl)-1,3,2-dioxaborolane, and combinations thereof.\\n5. The electrolyte composition of claim 1 comprising from about 0.025 weight percent to about 0.1 weight percent LiF and anion complexing agent in an amount by moles from about 0.5 to about 1.25 times the molar amount of LiF.\\n6. The electrolyte composition of claim 1 wherein the electrolyte comprises from about 1.15M to about 1.6M lithium electrolyte salt.\\n7. The electrolyte composition of claim 1 further comprising from about 0.1 weight percent to about 5 weight percent LiBOB, LiDFOB or a combination thereof.\\n8. The electrolyte composition of claim 1 further comprising from about 1 to about 5 weight percent LiBOB, LiDFOB or a combination thereof.\\n9. The electrolyte composition of claim 1 wherein the solvent consists essentially of ethylene carbonate and dimethyl carbonate at a weight ratio from about 1:1 to about 1:4 and methyl ethyl carbonate at a concentration relative to the total electrolyte weight from 0 to about 30 weight percent.\\n10. The electrolyte composition of claim 1 wherein the solvent consists essentially of fluoroethylene carbonate and dimethyl carbonate at a weight ratio from about 1:1 to about 1:4.\\n11. The electrolyte composition of claim 1 wherein the solvent comprises no more than about 40 volume percent methyl ethyl carbonate.\\n12. The electrolyte composition of claim 1 wherein the solvent consists essentially of fluoroethylene carbonate, dimethyl carbonate and methyl ethyl carbonate.\\n13. The electrolyte composition of claim 12 wherein the solvent comprises no more than about 40 volume percent methyl ethyl carbonate.\\n14. The electrolyte composition of claim 1 further comprising from about 0.01 to about 0.4 weight percent dimethyl methylphosphonate.\\n15. A lithium ion battery comprising a positive electrode, a negative electrode, a separator separating the positive electrode, and an electrolyte of claim 1, wherein the positive electrode comprises an active material comprising a lithium rich metal oxide,\\nwherein the positive electrode active material has a specific capacity of at least about 140 mAh/g at a 1C rate discharged from 4.35V to 2V and wherein the battery has a capacity at the 500th cycle that is at least about 97.5% of the 5th cycle capacity when cycled at a discharge rate of 1C from 4.35V to 2.5V.\\n16. The lithium ion battery of claim 15 wherein the negative electrode comprises graphitic carbon.\\n17. The lithium ion battery of claim 15 wherein the negative electrode comprises a silicon based active material.\"\n",
    "  }\n",
    "  ]"
   ],
   "metadata": {
    "id": "UM8JC1Gs9kYq",
    "ExecuteTime": {
     "start_time": "2023-09-24T02:45:19.486144800Z"
    }
   },
   "execution_count": null,
   "outputs": []
  },
  {
   "cell_type": "code",
   "source": [
    "data_arrays = [data_array1, data_array2]"
   ],
   "metadata": {
    "id": "W9NFKMsZ8zze",
    "ExecuteTime": {
     "start_time": "2023-09-24T02:45:19.491669100Z"
    }
   },
   "execution_count": null,
   "outputs": []
  },
  {
   "cell_type": "code",
   "source": [
    "intra_array_results = [process_data(data_array) for data_array in data_arrays]\n",
    "\n",
    "# Process inter-array comparisons\n",
    "inter_array_results = []\n",
    "for i in range(len(data_arrays)):\n",
    "    for j in range(len(data_arrays)):\n",
    "        if i != j:\n",
    "            stats = process_inter_array(data_arrays[i], data_arrays[j])\n",
    "            inter_array_results.append(stats)\n",
    "\n",
    "print(\"Intra-Array Results:\")\n",
    "for result in intra_array_results:\n",
    "    print(result)\n",
    "\n",
    "print(\"\\nInter-Array Results:\")\n",
    "for result in inter_array_results:\n",
    "    print(result)"
   ],
   "metadata": {
    "colab": {
     "base_uri": "https://localhost:8080/"
    },
    "id": "1_7djEPi-0Ss",
    "outputId": "bbcdb662-3091-4779-9073-2e0bbcf4a522",
    "ExecuteTime": {
     "start_time": "2023-09-24T02:45:19.497006300Z"
    }
   },
   "execution_count": null,
   "outputs": []
  },
  {
   "cell_type": "code",
   "source": [
    "import matplotlib.pyplot as plt\n",
    "\n",
    "# Data\n",
    "intra_array_data = [\n",
    "    {'average': 1.1729240102101275, 'median': 1.1404663599371974, 'mean': 1.1729240102101275, 'std_dev': 0.12107371049557702},\n",
    "    {'average': 1.4378946397066215, 'median': 1.2089015174293574, 'mean': 1.4378946397066215, 'std_dev': 0.5610346945087198}\n",
    "]\n",
    "\n",
    "inter_array_data = [\n",
    "    {'average': 2.0012753246548005, 'median': 1.8090958754796507, 'mean': 2.0012753246548005, 'std_dev': 0.4823949420682781},\n",
    "    {'average': 2.0012753246548005, 'median': 1.8090958754796507, 'mean': 2.0012753246548005, 'std_dev': 0.4823949420682781}\n",
    "]\n",
    "\n",
    "labels = ['LLMs', 'Batteries']\n",
    "\n",
    "# Visualization function\n",
    "def plot_statistics(data, title):\n",
    "    x = np.arange(len(labels))\n",
    "    width = 0.35\n",
    "\n",
    "    fig, ax = plt.subplots()\n",
    "    rects1 = ax.bar(x - width/2, [item['base'] for item in data], width, label='Base BERT', color='b')\n",
    "    rects2 = ax.bar(x + width/2, [item['fine_tuned'] for item in data], width, label='Fine-tuned BERT', color='r')\n",
    "\n",
    "    ax.set_ylabel('Values')\n",
    "    ax.set_title(title)\n",
    "    ax.set_xticks(x)\n",
    "    ax.set_xticklabels(labels)\n",
    "    ax.legend()\n",
    "\n",
    "    fig.tight_layout()\n",
    "    plt.show()\n",
    "\n",
    "# Prepare data for plotting\n",
    "intra_average = [{'base': intra_array_data[0]['average'], 'fine_tuned': intra_array_data[1]['average']}]\n",
    "inter_average = [{'base': inter_array_data[0]['average'], 'fine_tuned': inter_array_data[1]['average']}]\n",
    "\n",
    "# Display plots\n",
    "plot_statistics(intra_average, 'Different array average Comparison')"
   ],
   "metadata": {
    "colab": {
     "base_uri": "https://localhost:8080/",
     "height": 487
    },
    "id": "Zip9K5Qg_9y1",
    "outputId": "d5c7bb5e-901e-4cee-aac1-d243b180c7f4",
    "ExecuteTime": {
     "start_time": "2023-09-24T02:45:19.502994100Z"
    }
   },
   "execution_count": null,
   "outputs": []
  },
  {
   "cell_type": "code",
   "source": [],
   "metadata": {
    "id": "Bgb01vGeAiog",
    "ExecuteTime": {
     "start_time": "2023-09-24T02:45:19.508630400Z"
    }
   },
   "execution_count": null,
   "outputs": []
  }
 ]
}
